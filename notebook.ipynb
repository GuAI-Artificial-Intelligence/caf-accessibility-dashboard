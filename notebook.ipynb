{
 "cells": [
  {
   "cell_type": "code",
   "execution_count": 58,
   "metadata": {},
   "outputs": [],
   "source": [
    "# Python\n",
    "from pathlib import Path\n",
    "import json\n",
    "\n",
    "# Database  \n",
    "import sqlite3\n",
    "\n",
    "# Data analysis\n",
    "import pandas as pd\n",
    "\n",
    "# Geospatial\n",
    "import geopandas as gpd\n",
    "import shapely.wkb\n",
    "from shapely.wkb import loads"
   ]
  },
  {
   "cell_type": "code",
   "execution_count": 4,
   "metadata": {},
   "outputs": [],
   "source": [
    "current_path = Path()"
   ]
  },
  {
   "cell_type": "code",
   "execution_count": 32,
   "metadata": {},
   "outputs": [],
   "source": [
    "# Database\n",
    "conn = sqlite3.connect(current_path / 'data' / 'caf_accessibility.db')"
   ]
  },
  {
   "cell_type": "code",
   "execution_count": 91,
   "metadata": {},
   "outputs": [],
   "source": [
    "bogota_cuenca_df_parquet = pd.read_parquet(\n",
    "    current_path / 'data' / 'bogota_cuenca_v2.parquet'\n",
    ")\n",
    "\n",
    "bogota_cuenca_gdf_geo = gpd.read_parquet(\n",
    "    current_path / 'data' / 'bogota_cuenca_geo_v2.parquet',\n",
    ")"
   ]
  },
  {
   "cell_type": "code",
   "execution_count": 96,
   "metadata": {},
   "outputs": [],
   "source": [
    "bogota_cuenca_df = pd.concat([bogota_cuenca_df_parquet, bogota_cuenca_gdf_geo[['geometry']]], axis=1)"
   ]
  },
  {
   "cell_type": "code",
   "execution_count": 113,
   "metadata": {},
   "outputs": [],
   "source": [
    "hospitales_gdf = gpd.read_parquet(\n",
    "    current_path / 'data' / 'Bogota_SaluHosp.parquet'\n",
    ")"
   ]
  },
  {
   "cell_type": "code",
   "execution_count": 117,
   "metadata": {},
   "outputs": [],
   "source": [
    "espacios_verdes_gdf = gpd.read_parquet(\n",
    "    current_path / 'data' / 'Bogota_EspaVerd.parquet'\n",
    ")"
   ]
  },
  {
   "cell_type": "code",
   "execution_count": 115,
   "metadata": {},
   "outputs": [],
   "source": [
    "def save_geo_in_sqlite_db(conn:sqlite3.Connection, table_name, geo_dict_json):\n",
    "    c = conn.cursor()\n",
    "    c.execute(\"SELECT name FROM sqlite_master WHERE type='table' AND name='Geos'\")\n",
    "    result = c.fetchone()\n",
    "    if not result:\n",
    "        c.execute('''CREATE TABLE Geos (id INTEGER PRIMARY KEY AUTOINCREMENT, table_ TEXT UNIQUE, geometry TEXT)''')\n",
    "    c.execute('''INSERT INTO Geos (table_, geometry) VALUES (?, ?)''', (table_name, geo_dict_json))\n",
    "    conn.commit()\n",
    "\n",
    "def save_dataframe_in_sqlite_db(df:pd.DataFrame, table_name:str, conn:sqlite3.Connection):\n",
    "    print(type(df))\n",
    "    if 'geometry' not in df.columns:\n",
    "        raise ValueError('Dataframe must have a geometry column')\n",
    "    # df['geometry'] = df.apply(lambda x: shapely.wkb.dumps(x.geometry), axis=1)\n",
    "    bogota_cuenca_df_geo = gpd.GeoDataFrame(df[['geometry']], geometry='geometry')\n",
    "    geo_dict_json = json.dumps(bogota_cuenca_df_geo[['geometry']].__geo_interface__)\n",
    "    save_geo_in_sqlite_db(conn, table_name, geo_dict_json)\n",
    "    df.drop('geometry', axis=1).to_sql(table_name, conn, if_exists='replace', index=False)\n",
    "\n"
   ]
  },
  {
   "cell_type": "code",
   "execution_count": null,
   "metadata": {},
   "outputs": [],
   "source": [
    "save_dataframe_in_sqlite_db(df=bogota_cuenca_df, table_name='Accessibility', conn=conn)"
   ]
  },
  {
   "cell_type": "code",
   "execution_count": 116,
   "metadata": {},
   "outputs": [
    {
     "name": "stdout",
     "output_type": "stream",
     "text": [
      "<class 'geopandas.geodataframe.GeoDataFrame'>\n"
     ]
    }
   ],
   "source": [
    "save_dataframe_in_sqlite_db(df=hospitales_gdf, table_name='Hospitals', conn=conn)"
   ]
  },
  {
   "cell_type": "code",
   "execution_count": 118,
   "metadata": {},
   "outputs": [
    {
     "name": "stdout",
     "output_type": "stream",
     "text": [
      "<class 'geopandas.geodataframe.GeoDataFrame'>\n"
     ]
    }
   ],
   "source": [
    "save_dataframe_in_sqlite_db(df=espacios_verdes_gdf, table_name='Green_Areas', conn=conn)"
   ]
  },
  {
   "cell_type": "code",
   "execution_count": null,
   "metadata": {},
   "outputs": [],
   "source": []
  }
 ],
 "metadata": {
  "kernelspec": {
   "display_name": "env",
   "language": "python",
   "name": "python3"
  },
  "language_info": {
   "codemirror_mode": {
    "name": "ipython",
    "version": 3
   },
   "file_extension": ".py",
   "mimetype": "text/x-python",
   "name": "python",
   "nbconvert_exporter": "python",
   "pygments_lexer": "ipython3",
   "version": "3.9.6"
  },
  "orig_nbformat": 4
 },
 "nbformat": 4,
 "nbformat_minor": 2
}
