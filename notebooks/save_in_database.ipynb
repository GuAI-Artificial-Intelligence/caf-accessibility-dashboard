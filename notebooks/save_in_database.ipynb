{
 "cells": [
  {
   "cell_type": "code",
   "execution_count": 2,
   "metadata": {},
   "outputs": [],
   "source": [
    "# Python\n",
    "from pathlib import Path\n",
    "import json\n",
    "\n",
    "# Database  \n",
    "import sqlite3\n",
    "\n",
    "# Data analysis\n",
    "import pandas as pd\n",
    "\n",
    "# Geospatial\n",
    "import geopandas as gpd\n",
    "import shapely.wkb\n",
    "from shapely.wkb import loads"
   ]
  },
  {
   "cell_type": "code",
   "execution_count": 3,
   "metadata": {},
   "outputs": [],
   "source": [
    "current_dir = Path.cwd()\n",
    "parent_dir = current_dir.parent"
   ]
  },
  {
   "cell_type": "code",
   "execution_count": 4,
   "metadata": {},
   "outputs": [],
   "source": [
    "# Database\n",
    "conn = sqlite3.connect(parent_dir / 'data' / 'caf_accessibility.db')"
   ]
  },
  {
   "cell_type": "code",
   "execution_count": 91,
   "metadata": {},
   "outputs": [],
   "source": [
    "bogota_cuenca_df_parquet = pd.read_parquet(\n",
    "    parent_dir / 'data' / 'bogota_cuenca_v2.parquet'\n",
    ")\n",
    "\n",
    "bogota_cuenca_gdf_geo = gpd.read_parquet(\n",
    "    parent_dir / 'data' / 'bogota_cuenca_geo_v2.parquet',\n",
    ")"
   ]
  },
  {
   "cell_type": "code",
   "execution_count": 96,
   "metadata": {},
   "outputs": [],
   "source": [
    "bogota_cuenca_df = pd.concat([bogota_cuenca_df_parquet, bogota_cuenca_gdf_geo[['geometry']]], axis=1)"
   ]
  },
  {
   "cell_type": "code",
   "execution_count": 113,
   "metadata": {},
   "outputs": [],
   "source": [
    "hospitales_gdf = gpd.read_parquet(\n",
    "    parent_dir / 'data' / 'Bogota_SaluHosp.parquet'\n",
    ")"
   ]
  },
  {
   "cell_type": "code",
   "execution_count": 117,
   "metadata": {},
   "outputs": [],
   "source": [
    "espacios_verdes_gdf = gpd.read_parquet(\n",
    "    parent_dir / 'data' / 'Bogota_EspaVerd.parquet'\n",
    ")"
   ]
  },
  {
   "cell_type": "code",
   "execution_count": 5,
   "metadata": {},
   "outputs": [],
   "source": [
    "atencion_primaria_gdf = gpd.read_file(\n",
    "    parent_dir / 'data' / 'Bogotá_SaluAtenPrim.geojson'\n",
    ")\n"
   ]
  },
  {
   "cell_type": "code",
   "execution_count": 23,
   "metadata": {},
   "outputs": [],
   "source": [
    "Bogota_EducPrimPriv_gdf = gpd.read_file(\n",
    "    parent_dir / 'data' / 'Bogotá_EducPrimPriv.geojson'\n",
    ")\n",
    "Bogota_EducPrimPubl_gdf = gpd.read_file(\n",
    "    parent_dir / 'data' / 'Bogotá_EducPrimPubl.geojson'\n",
    ")"
   ]
  },
  {
   "cell_type": "code",
   "execution_count": 24,
   "metadata": {},
   "outputs": [
    {
     "name": "stdout",
     "output_type": "stream",
     "text": [
      "<class 'geopandas.geodataframe.GeoDataFrame'>\n",
      "RangeIndex: 1274 entries, 0 to 1273\n",
      "Data columns (total 6 columns):\n",
      " #   Column    Non-Null Count  Dtype   \n",
      "---  ------    --------------  -----   \n",
      " 0   hex_d     1274 non-null   object  \n",
      " 1   destino   1274 non-null   object  \n",
      " 2   nombre    1274 non-null   object  \n",
      " 3   tipo      1274 non-null   object  \n",
      " 4   oferta    1274 non-null   object  \n",
      " 5   geometry  1274 non-null   geometry\n",
      "dtypes: geometry(1), object(5)\n",
      "memory usage: 59.8+ KB\n"
     ]
    }
   ],
   "source": [
    "Bogota_EducPrimPriv_gdf.info()"
   ]
  },
  {
   "cell_type": "code",
   "execution_count": 25,
   "metadata": {},
   "outputs": [
    {
     "name": "stdout",
     "output_type": "stream",
     "text": [
      "<class 'geopandas.geodataframe.GeoDataFrame'>\n",
      "RangeIndex: 662 entries, 0 to 661\n",
      "Data columns (total 6 columns):\n",
      " #   Column    Non-Null Count  Dtype   \n",
      "---  ------    --------------  -----   \n",
      " 0   hex_d     662 non-null    object  \n",
      " 1   destino   662 non-null    object  \n",
      " 2   nombre    662 non-null    object  \n",
      " 3   tipo      662 non-null    object  \n",
      " 4   oferta    662 non-null    object  \n",
      " 5   geometry  662 non-null    geometry\n",
      "dtypes: geometry(1), object(5)\n",
      "memory usage: 31.2+ KB\n"
     ]
    }
   ],
   "source": [
    "Bogota_EducPrimPubl_gdf.info()"
   ]
  },
  {
   "cell_type": "code",
   "execution_count": 26,
   "metadata": {},
   "outputs": [
    {
     "data": {
      "text/html": [
       "<div>\n",
       "<style scoped>\n",
       "    .dataframe tbody tr th:only-of-type {\n",
       "        vertical-align: middle;\n",
       "    }\n",
       "\n",
       "    .dataframe tbody tr th {\n",
       "        vertical-align: top;\n",
       "    }\n",
       "\n",
       "    .dataframe thead th {\n",
       "        text-align: right;\n",
       "    }\n",
       "</style>\n",
       "<table border=\"1\" class=\"dataframe\">\n",
       "  <thead>\n",
       "    <tr style=\"text-align: right;\">\n",
       "      <th></th>\n",
       "      <th>hex_d</th>\n",
       "      <th>destino</th>\n",
       "      <th>nombre</th>\n",
       "      <th>tipo</th>\n",
       "      <th>oferta</th>\n",
       "      <th>geometry</th>\n",
       "    </tr>\n",
       "  </thead>\n",
       "  <tbody>\n",
       "    <tr>\n",
       "      <th>0</th>\n",
       "      <td>8866e00023fffff</td>\n",
       "      <td>4.056654, -74.325743</td>\n",
       "      <td>COLEGIO DISTRITAL RURAL JUAN DE LA CRUZ VARELA...</td>\n",
       "      <td>Educación Primaria</td>\n",
       "      <td>Pública</td>\n",
       "      <td>POINT (-74.32574 4.05665)</td>\n",
       "    </tr>\n",
       "    <tr>\n",
       "      <th>1</th>\n",
       "      <td>8866e00061fffff</td>\n",
       "      <td>4.09417, -74.328902</td>\n",
       "      <td>COLEGIO DISTRITAL RURAL JUAN DE LA CRUZ VARELA...</td>\n",
       "      <td>Educación Primaria</td>\n",
       "      <td>Pública</td>\n",
       "      <td>POINT (-74.32890 4.09417)</td>\n",
       "    </tr>\n",
       "    <tr>\n",
       "      <th>2</th>\n",
       "      <td>8866e000adfffff</td>\n",
       "      <td>4.030324, -74.300455</td>\n",
       "      <td>COLEGIO DISTRITAL RURAL JUAN DE LA CRUZ VARELA...</td>\n",
       "      <td>Educación Primaria</td>\n",
       "      <td>Pública</td>\n",
       "      <td>POINT (-74.30045 4.03032)</td>\n",
       "    </tr>\n",
       "    <tr>\n",
       "      <th>3</th>\n",
       "      <td>8866e001bdfffff</td>\n",
       "      <td>4.008714, -74.343767</td>\n",
       "      <td>COLEGIO DISTRITAL RURAL JUAN DE LA CRUZ VARELA...</td>\n",
       "      <td>Educación Primaria</td>\n",
       "      <td>Pública</td>\n",
       "      <td>POINT (-74.34377 4.00871)</td>\n",
       "    </tr>\n",
       "    <tr>\n",
       "      <th>4</th>\n",
       "      <td>8866e001e3fffff</td>\n",
       "      <td>4.031682, -74.350906</td>\n",
       "      <td>COLEGIO DISTRITAL RURAL JUAN DE LA CRUZ VARELA...</td>\n",
       "      <td>Educación Primaria</td>\n",
       "      <td>Pública</td>\n",
       "      <td>POINT (-74.35091 4.03168)</td>\n",
       "    </tr>\n",
       "  </tbody>\n",
       "</table>\n",
       "</div>"
      ],
      "text/plain": [
       "             hex_d               destino  \\\n",
       "0  8866e00023fffff  4.056654, -74.325743   \n",
       "1  8866e00061fffff   4.09417, -74.328902   \n",
       "2  8866e000adfffff  4.030324, -74.300455   \n",
       "3  8866e001bdfffff  4.008714, -74.343767   \n",
       "4  8866e001e3fffff  4.031682, -74.350906   \n",
       "\n",
       "                                              nombre                tipo  \\\n",
       "0  COLEGIO DISTRITAL RURAL JUAN DE LA CRUZ VARELA...  Educación Primaria   \n",
       "1  COLEGIO DISTRITAL RURAL JUAN DE LA CRUZ VARELA...  Educación Primaria   \n",
       "2  COLEGIO DISTRITAL RURAL JUAN DE LA CRUZ VARELA...  Educación Primaria   \n",
       "3  COLEGIO DISTRITAL RURAL JUAN DE LA CRUZ VARELA...  Educación Primaria   \n",
       "4  COLEGIO DISTRITAL RURAL JUAN DE LA CRUZ VARELA...  Educación Primaria   \n",
       "\n",
       "    oferta                   geometry  \n",
       "0  Pública  POINT (-74.32574 4.05665)  \n",
       "1  Pública  POINT (-74.32890 4.09417)  \n",
       "2  Pública  POINT (-74.30045 4.03032)  \n",
       "3  Pública  POINT (-74.34377 4.00871)  \n",
       "4  Pública  POINT (-74.35091 4.03168)  "
      ]
     },
     "execution_count": 26,
     "metadata": {},
     "output_type": "execute_result"
    }
   ],
   "source": [
    "Bogota_EducPrimPubl_gdf.head()"
   ]
  },
  {
   "cell_type": "code",
   "execution_count": 29,
   "metadata": {},
   "outputs": [],
   "source": [
    "Bogota_EducPrim_gdf = pd.concat([Bogota_EducPrimPubl_gdf, Bogota_EducPrimPriv_gdf], axis=0)"
   ]
  },
  {
   "attachments": {},
   "cell_type": "markdown",
   "metadata": {},
   "source": [
    "### Educacion inicial"
   ]
  },
  {
   "cell_type": "code",
   "execution_count": 33,
   "metadata": {},
   "outputs": [],
   "source": [
    "Bogotá_EducInicPriv_gdf = gpd.read_file(\n",
    "    parent_dir / 'data' / 'Bogotá_EducInicPriv.geojson'\n",
    ")\n",
    "Bogotá_EducInicPubl_gdf = gpd.read_file(\n",
    "    parent_dir / 'data' / 'Bogotá_EducInicPubl.geojson'\n",
    ")"
   ]
  },
  {
   "cell_type": "code",
   "execution_count": 34,
   "metadata": {},
   "outputs": [
    {
     "name": "stdout",
     "output_type": "stream",
     "text": [
      "<class 'geopandas.geodataframe.GeoDataFrame'>\n",
      "RangeIndex: 1076 entries, 0 to 1075\n",
      "Data columns (total 6 columns):\n",
      " #   Column    Non-Null Count  Dtype   \n",
      "---  ------    --------------  -----   \n",
      " 0   hex_d     1076 non-null   object  \n",
      " 1   destino   1076 non-null   object  \n",
      " 2   nombre    1076 non-null   object  \n",
      " 3   tipo      1076 non-null   object  \n",
      " 4   oferta    1076 non-null   object  \n",
      " 5   geometry  1076 non-null   geometry\n",
      "dtypes: geometry(1), object(5)\n",
      "memory usage: 50.6+ KB\n"
     ]
    }
   ],
   "source": [
    "Bogotá_EducInicPriv_gdf.info()"
   ]
  },
  {
   "cell_type": "code",
   "execution_count": 35,
   "metadata": {},
   "outputs": [
    {
     "name": "stdout",
     "output_type": "stream",
     "text": [
      "<class 'geopandas.geodataframe.GeoDataFrame'>\n",
      "RangeIndex: 657 entries, 0 to 656\n",
      "Data columns (total 6 columns):\n",
      " #   Column    Non-Null Count  Dtype   \n",
      "---  ------    --------------  -----   \n",
      " 0   hex_d     657 non-null    object  \n",
      " 1   destino   657 non-null    object  \n",
      " 2   nombre    657 non-null    object  \n",
      " 3   tipo      657 non-null    object  \n",
      " 4   oferta    657 non-null    object  \n",
      " 5   geometry  657 non-null    geometry\n",
      "dtypes: geometry(1), object(5)\n",
      "memory usage: 30.9+ KB\n"
     ]
    }
   ],
   "source": [
    "Bogotá_EducInicPubl_gdf.info()"
   ]
  },
  {
   "cell_type": "code",
   "execution_count": 36,
   "metadata": {},
   "outputs": [],
   "source": [
    "Bogotá_EducInic_gdf = pd.concat([Bogotá_EducInicPubl_gdf, Bogotá_EducInicPriv_gdf], axis=0)"
   ]
  },
  {
   "attachments": {},
   "cell_type": "markdown",
   "metadata": {},
   "source": [
    "### Educacion secundaria"
   ]
  },
  {
   "cell_type": "code",
   "execution_count": 5,
   "metadata": {},
   "outputs": [],
   "source": [
    "Bogotá_EducSecuPriv_gdf = gpd.read_file(\n",
    "    parent_dir / 'data' / 'Bogotá_EducSecuPriv.geojson'\n",
    ")\n",
    "Bogotá_EducSecuPubl_gdf = gpd.read_file(\n",
    "    parent_dir / 'data' / 'Bogotá_EducSecuPubl.geojson'\n",
    ")"
   ]
  },
  {
   "cell_type": "code",
   "execution_count": 6,
   "metadata": {},
   "outputs": [
    {
     "name": "stdout",
     "output_type": "stream",
     "text": [
      "<class 'geopandas.geodataframe.GeoDataFrame'>\n",
      "RangeIndex: 1258 entries, 0 to 1257\n",
      "Data columns (total 6 columns):\n",
      " #   Column    Non-Null Count  Dtype   \n",
      "---  ------    --------------  -----   \n",
      " 0   hex_d     1258 non-null   object  \n",
      " 1   destino   1258 non-null   object  \n",
      " 2   nombre    1258 non-null   object  \n",
      " 3   tipo      1258 non-null   object  \n",
      " 4   oferta    1258 non-null   object  \n",
      " 5   geometry  1258 non-null   geometry\n",
      "dtypes: geometry(1), object(5)\n",
      "memory usage: 59.1+ KB\n"
     ]
    }
   ],
   "source": [
    "Bogotá_EducSecuPriv_gdf.info()"
   ]
  },
  {
   "cell_type": "code",
   "execution_count": 7,
   "metadata": {},
   "outputs": [
    {
     "name": "stdout",
     "output_type": "stream",
     "text": [
      "<class 'geopandas.geodataframe.GeoDataFrame'>\n",
      "RangeIndex: 491 entries, 0 to 490\n",
      "Data columns (total 6 columns):\n",
      " #   Column    Non-Null Count  Dtype   \n",
      "---  ------    --------------  -----   \n",
      " 0   hex_d     491 non-null    object  \n",
      " 1   destino   491 non-null    object  \n",
      " 2   nombre    491 non-null    object  \n",
      " 3   tipo      491 non-null    object  \n",
      " 4   oferta    491 non-null    object  \n",
      " 5   geometry  491 non-null    geometry\n",
      "dtypes: geometry(1), object(5)\n",
      "memory usage: 23.1+ KB\n"
     ]
    }
   ],
   "source": [
    "Bogotá_EducSecuPubl_gdf.info()"
   ]
  },
  {
   "cell_type": "code",
   "execution_count": 8,
   "metadata": {},
   "outputs": [],
   "source": [
    "Bogotá_EducSecu_gdf = pd.concat([Bogotá_EducSecuPriv_gdf, Bogotá_EducSecuPubl_gdf], axis=0)"
   ]
  },
  {
   "cell_type": "code",
   "execution_count": null,
   "metadata": {},
   "outputs": [],
   "source": []
  },
  {
   "cell_type": "code",
   "execution_count": 10,
   "metadata": {},
   "outputs": [],
   "source": [
    "def save_geo_in_sqlite_db(conn:sqlite3.Connection, table_name, geo_dict_json):\n",
    "    c = conn.cursor()\n",
    "    c.execute(\"SELECT name FROM sqlite_master WHERE type='table' AND name='Geos'\")\n",
    "    result = c.fetchone()\n",
    "    if not result:\n",
    "        c.execute('''CREATE TABLE Geos (id INTEGER PRIMARY KEY AUTOINCREMENT, table_ TEXT UNIQUE, geometry TEXT)''')\n",
    "    c.execute('''INSERT INTO Geos (table_, geometry) VALUES (?, ?)''', (table_name, geo_dict_json))\n",
    "    conn.commit()\n",
    "\n",
    "def save_dataframe_in_sqlite_db(df:pd.DataFrame, table_name:str, conn:sqlite3.Connection):\n",
    "    if 'geometry' not in df.columns:\n",
    "        raise ValueError('Dataframe must have a geometry column')\n",
    "    bogota_cuenca_df_geo = gpd.GeoDataFrame(df[['geometry']], geometry='geometry')\n",
    "    geo_dict_json = json.dumps(bogota_cuenca_df_geo[['geometry']].__geo_interface__)\n",
    "    save_geo_in_sqlite_db(conn, table_name, geo_dict_json)\n",
    "    df.drop('geometry', axis=1).to_sql(table_name, conn, if_exists='replace', index=False)\n",
    "\n"
   ]
  },
  {
   "cell_type": "code",
   "execution_count": null,
   "metadata": {},
   "outputs": [],
   "source": [
    "save_dataframe_in_sqlite_db(df=bogota_cuenca_df, table_name='Accessibility', conn=conn)"
   ]
  },
  {
   "cell_type": "code",
   "execution_count": 116,
   "metadata": {},
   "outputs": [
    {
     "name": "stdout",
     "output_type": "stream",
     "text": [
      "<class 'geopandas.geodataframe.GeoDataFrame'>\n"
     ]
    }
   ],
   "source": [
    "save_dataframe_in_sqlite_db(df=hospitales_gdf, table_name='Hospitals', conn=conn)"
   ]
  },
  {
   "cell_type": "code",
   "execution_count": 118,
   "metadata": {},
   "outputs": [
    {
     "name": "stdout",
     "output_type": "stream",
     "text": [
      "<class 'geopandas.geodataframe.GeoDataFrame'>\n"
     ]
    }
   ],
   "source": [
    "save_dataframe_in_sqlite_db(df=espacios_verdes_gdf, table_name='Green_Areas', conn=conn)"
   ]
  },
  {
   "cell_type": "code",
   "execution_count": 9,
   "metadata": {},
   "outputs": [],
   "source": [
    "save_dataframe_in_sqlite_db(df=atencion_primaria_gdf, table_name='Primary_Health_Care', conn=conn)"
   ]
  },
  {
   "cell_type": "code",
   "execution_count": 30,
   "metadata": {},
   "outputs": [],
   "source": [
    "save_dataframe_in_sqlite_db(df=Bogota_EducPrim_gdf, table_name='Primary_Education', conn=conn)\n"
   ]
  },
  {
   "cell_type": "code",
   "execution_count": 38,
   "metadata": {},
   "outputs": [],
   "source": [
    "save_dataframe_in_sqlite_db(df=Bogotá_EducInic_gdf, table_name='Early_Education', conn=conn)\n"
   ]
  },
  {
   "cell_type": "code",
   "execution_count": 11,
   "metadata": {},
   "outputs": [],
   "source": [
    "save_dataframe_in_sqlite_db(df=Bogotá_EducSecu_gdf, table_name='Secondary_Education', conn=conn)"
   ]
  },
  {
   "cell_type": "code",
   "execution_count": null,
   "metadata": {},
   "outputs": [],
   "source": []
  }
 ],
 "metadata": {
  "kernelspec": {
   "display_name": "env",
   "language": "python",
   "name": "python3"
  },
  "language_info": {
   "codemirror_mode": {
    "name": "ipython",
    "version": 3
   },
   "file_extension": ".py",
   "mimetype": "text/x-python",
   "name": "python",
   "nbconvert_exporter": "python",
   "pygments_lexer": "ipython3",
   "version": "3.9.6"
  },
  "orig_nbformat": 4
 },
 "nbformat": 4,
 "nbformat_minor": 2
}
