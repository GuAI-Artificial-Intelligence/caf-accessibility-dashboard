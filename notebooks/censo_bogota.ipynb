{
 "cells": [
  {
   "cell_type": "code",
   "execution_count": 2,
   "metadata": {},
   "outputs": [],
   "source": [
    "# python\n",
    "from pathlib import Path\n",
    "import json\n",
    "\n",
    "# database\n",
    "import sqlite3\n",
    "\n",
    "# data analysis\n",
    "import pandas as pd\n",
    "import geopandas as gpd"
   ]
  },
  {
   "attachments": {},
   "cell_type": "markdown",
   "metadata": {},
   "source": [
    "### Paths"
   ]
  },
  {
   "cell_type": "code",
   "execution_count": 3,
   "metadata": {},
   "outputs": [],
   "source": [
    "current_dir = Path.cwd()\n",
    "parent_dir = current_dir.parent"
   ]
  },
  {
   "attachments": {},
   "cell_type": "markdown",
   "metadata": {},
   "source": [
    "### Database connection"
   ]
  },
  {
   "cell_type": "code",
   "execution_count": 4,
   "metadata": {},
   "outputs": [],
   "source": [
    "conn = sqlite3.connect(parent_dir / 'data' / 'caf_accessibility.db')\n",
    "\n",
    "def get_dataframe_from_sqlite_db(table_name: str, conn: sqlite3.Connection=conn, geo_type: str='polygon'):\n",
    "    # columns = utils.concat_list()   \n",
    "    columns = '*'\n",
    "    df = pd.read_sql(f'SELECT {columns} FROM {table_name}', conn)\n",
    "    if geo_type == 'polygon':\n",
    "        geo = get_geo_from_sqlite_db(table_name, conn)\n",
    "    elif geo_type == 'point':\n",
    "        geo = get_geo_from_sqlite_db(table_name, conn)\n",
    "        features = geo['features']\n",
    "        lat = list()\n",
    "        lon = list()\n",
    "        for f in features:\n",
    "            lat.append(f['geometry']['coordinates'][1])\n",
    "            lon.append(f['geometry']['coordinates'][0])\n",
    "        geo = pd.DataFrame(data={'lat': lat, 'lon': lon})\n",
    "    return df, geo\n",
    "\n",
    "def get_geo_from_sqlite_db(table_name: str, conn: sqlite3.Connection=conn):\n",
    "    c = conn.cursor()\n",
    "    c.execute(f'SELECT geometry FROM Geos WHERE table_ = \"{table_name}\"')\n",
    "    result = c.fetchone()[0]\n",
    "    return json.loads(result)"
   ]
  },
  {
   "attachments": {},
   "cell_type": "markdown",
   "metadata": {},
   "source": [
    "### Accessibility dataset"
   ]
  },
  {
   "cell_type": "code",
   "execution_count": 5,
   "metadata": {},
   "outputs": [],
   "source": [
    "accessibility_df, accessibility_geo = get_dataframe_from_sqlite_db(\n",
    "    table_name='Accessibility', conn=conn)\n",
    "accessibility_geo = gpd.GeoDataFrame.from_features(accessibility_geo['features'])\n",
    "accessibility_df['geometry'] = accessibility_geo.geometry\n",
    "accessibility_df = gpd.GeoDataFrame(accessibility_df, geometry='geometry')"
   ]
  },
  {
   "cell_type": "code",
   "execution_count": 6,
   "metadata": {},
   "outputs": [],
   "source": [
    "censo_bogota_pers = pd.read_csv(\n",
    "    parent_dir / 'data' / '11Bogota'/'11_Bogota_CSV'/'CNPV2018_5PER_A2_11.CSV'\n",
    ")"
   ]
  },
  {
   "cell_type": "code",
   "execution_count": 130,
   "metadata": {},
   "outputs": [],
   "source": [
    "censo_bogota_pers = pd.read_csv(\n",
    "    parent_dir / 'data' / '11Bogota'/'11_Bogota_CSV'/'CNPV2018_5PER_A2_11.CSV'\n",
    ")\n",
    "\n",
    "marco_geo = pd.read_csv(\n",
    "    parent_dir / 'data' / '11Bogota'/'11_Bogota_CSV'/'CNPV2018_MGN_A2_11.CSV'\n",
    ")\n",
    "censo_bogota_pers = censo_bogota_pers.merge(marco_geo[['COD_ENCUESTAS', 'COD_DANE_ANM']], how='left', on='COD_ENCUESTAS')\n"
   ]
  },
  {
   "attachments": {},
   "cell_type": "markdown",
   "metadata": {},
   "source": [
    "## Personas vulnerables"
   ]
  },
  {
   "cell_type": "code",
   "execution_count": 132,
   "metadata": {},
   "outputs": [],
   "source": [
    "censo_bogota_pers = censo_bogota_pers[['COD_DANE_ANM', 'CONDICION_FISICA', 'P_ALFABETA', 'PA1_GRP_ETNIC', 'P_SEXO']]"
   ]
  },
  {
   "attachments": {},
   "cell_type": "markdown",
   "metadata": {},
   "source": [
    "## Marco geoestadistico"
   ]
  },
  {
   "cell_type": "code",
   "execution_count": 71,
   "metadata": {},
   "outputs": [
    {
     "name": "stderr",
     "output_type": "stream",
     "text": [
      "/var/folders/0r/zp2mz7zj28xdnvbwvnqwf8vw0000gn/T/ipykernel_2719/3961070887.py:3: UserWarning: Geometry is in a geographic CRS. Results from 'centroid' are likely incorrect. Use 'GeoSeries.to_crs()' to re-project geometries to a projected CRS before this operation.\n",
      "\n",
      "  mge_bta['geometry'] = mge_bta.geometry.centroid\n"
     ]
    }
   ],
   "source": [
    "mge = gpd.read_file(parent_dir / 'data' / 'MGN2021_URB_MANZANA' / 'MGN_URB_MANZANA.shp')\n",
    "mge_bta = mge[mge.COD_DPTO=='11'].copy()\n",
    "mge_bta['geometry'] = mge_bta.geometry.centroid\n",
    "del(mge)"
   ]
  },
  {
   "attachments": {},
   "cell_type": "markdown",
   "metadata": {},
   "source": [
    "## Mix MGE y Accesibilidad"
   ]
  },
  {
   "cell_type": "code",
   "execution_count": 145,
   "metadata": {},
   "outputs": [
    {
     "name": "stderr",
     "output_type": "stream",
     "text": [
      "/Users/cristiantorres/Desktop/work/caf/caf-accessibility-dashboard/env/lib/python3.9/site-packages/IPython/core/interactiveshell.py:3400: FutureWarning: The `op` parameter is deprecated and will be removed in a future release. Please use the `predicate` parameter instead.\n",
      "  if await self.run_code(code, result, async_=asy):\n",
      "/var/folders/0r/zp2mz7zj28xdnvbwvnqwf8vw0000gn/T/ipykernel_2719/2276307606.py:1: UserWarning: CRS mismatch between the CRS of left geometries and the CRS of right geometries.\n",
      "Use `to_crs()` to reproject one of the input geometries to match the CRS of the other.\n",
      "\n",
      "Left CRS: EPSG:4686\n",
      "Right CRS: None\n",
      "\n",
      "  temp = gpd.sjoin(mge_bta[['COD_DANE', 'geometry']], accessibility_df, how='left', op='within').reset_index()\n"
     ]
    }
   ],
   "source": [
    "temp = gpd.sjoin(mge_bta[['COD_DANE', 'geometry']], accessibility_df, how='left', op='within').reset_index()\n",
    "temp = temp[['COD_DANE', 'hex']].copy()\n",
    "temp = temp.dropna()"
   ]
  },
  {
   "cell_type": "code",
   "execution_count": 146,
   "metadata": {},
   "outputs": [
    {
     "data": {
      "text/html": [
       "<div>\n",
       "<style scoped>\n",
       "    .dataframe tbody tr th:only-of-type {\n",
       "        vertical-align: middle;\n",
       "    }\n",
       "\n",
       "    .dataframe tbody tr th {\n",
       "        vertical-align: top;\n",
       "    }\n",
       "\n",
       "    .dataframe thead th {\n",
       "        text-align: right;\n",
       "    }\n",
       "</style>\n",
       "<table border=\"1\" class=\"dataframe\">\n",
       "  <thead>\n",
       "    <tr style=\"text-align: right;\">\n",
       "      <th></th>\n",
       "      <th>COD_DANE</th>\n",
       "      <th>hex</th>\n",
       "    </tr>\n",
       "  </thead>\n",
       "  <tbody>\n",
       "    <tr>\n",
       "      <th>0</th>\n",
       "      <td>1100110000000011010101</td>\n",
       "      <td>8966e090c93ffff</td>\n",
       "    </tr>\n",
       "    <tr>\n",
       "      <th>1</th>\n",
       "      <td>1100110000000011010102</td>\n",
       "      <td>8966e090c97ffff</td>\n",
       "    </tr>\n",
       "    <tr>\n",
       "      <th>2</th>\n",
       "      <td>1100110000000011010103</td>\n",
       "      <td>8966e090c97ffff</td>\n",
       "    </tr>\n",
       "    <tr>\n",
       "      <th>3</th>\n",
       "      <td>1100110000000011010104</td>\n",
       "      <td>8966e090c83ffff</td>\n",
       "    </tr>\n",
       "    <tr>\n",
       "      <th>4</th>\n",
       "      <td>1100110000000011010105</td>\n",
       "      <td>8966e090c97ffff</td>\n",
       "    </tr>\n",
       "  </tbody>\n",
       "</table>\n",
       "</div>"
      ],
      "text/plain": [
       "                 COD_DANE              hex\n",
       "0  1100110000000011010101  8966e090c93ffff\n",
       "1  1100110000000011010102  8966e090c97ffff\n",
       "2  1100110000000011010103  8966e090c97ffff\n",
       "3  1100110000000011010104  8966e090c83ffff\n",
       "4  1100110000000011010105  8966e090c97ffff"
      ]
     },
     "execution_count": 146,
     "metadata": {},
     "output_type": "execute_result"
    }
   ],
   "source": [
    "temp.head()"
   ]
  },
  {
   "cell_type": "code",
   "execution_count": 152,
   "metadata": {},
   "outputs": [],
   "source": [
    "censo_bogota_pers = censo_bogota_pers.merge(temp, how='left', left_on='COD_DANE_ANM', right_on='COD_DANE').reset_index(drop=True)"
   ]
  },
  {
   "cell_type": "code",
   "execution_count": 154,
   "metadata": {},
   "outputs": [
    {
     "data": {
      "text/html": [
       "<div>\n",
       "<style scoped>\n",
       "    .dataframe tbody tr th:only-of-type {\n",
       "        vertical-align: middle;\n",
       "    }\n",
       "\n",
       "    .dataframe tbody tr th {\n",
       "        vertical-align: top;\n",
       "    }\n",
       "\n",
       "    .dataframe thead th {\n",
       "        text-align: right;\n",
       "    }\n",
       "</style>\n",
       "<table border=\"1\" class=\"dataframe\">\n",
       "  <thead>\n",
       "    <tr style=\"text-align: right;\">\n",
       "      <th></th>\n",
       "      <th>COD_DANE_ANM</th>\n",
       "      <th>CONDICION_FISICA</th>\n",
       "      <th>P_ALFABETA</th>\n",
       "      <th>PA1_GRP_ETNIC</th>\n",
       "      <th>P_SEXO</th>\n",
       "      <th>COD_DANE</th>\n",
       "      <th>hex</th>\n",
       "    </tr>\n",
       "  </thead>\n",
       "  <tbody>\n",
       "    <tr>\n",
       "      <th>0</th>\n",
       "      <td>1100110000000051110309</td>\n",
       "      <td>2.0</td>\n",
       "      <td>1.0</td>\n",
       "      <td>6</td>\n",
       "      <td>1</td>\n",
       "      <td>1100110000000051110309</td>\n",
       "      <td>8966e092027ffff</td>\n",
       "    </tr>\n",
       "    <tr>\n",
       "      <th>1</th>\n",
       "      <td>1100110000000051110309</td>\n",
       "      <td>2.0</td>\n",
       "      <td>1.0</td>\n",
       "      <td>6</td>\n",
       "      <td>2</td>\n",
       "      <td>1100110000000051110309</td>\n",
       "      <td>8966e092027ffff</td>\n",
       "    </tr>\n",
       "    <tr>\n",
       "      <th>2</th>\n",
       "      <td>1100110000000051110309</td>\n",
       "      <td>2.0</td>\n",
       "      <td>1.0</td>\n",
       "      <td>6</td>\n",
       "      <td>2</td>\n",
       "      <td>1100110000000051110309</td>\n",
       "      <td>8966e092027ffff</td>\n",
       "    </tr>\n",
       "    <tr>\n",
       "      <th>3</th>\n",
       "      <td>1100110000000051110309</td>\n",
       "      <td>2.0</td>\n",
       "      <td>1.0</td>\n",
       "      <td>6</td>\n",
       "      <td>1</td>\n",
       "      <td>1100110000000051110309</td>\n",
       "      <td>8966e092027ffff</td>\n",
       "    </tr>\n",
       "    <tr>\n",
       "      <th>4</th>\n",
       "      <td>1100110000000051110111</td>\n",
       "      <td>2.0</td>\n",
       "      <td>1.0</td>\n",
       "      <td>6</td>\n",
       "      <td>2</td>\n",
       "      <td>1100110000000051110111</td>\n",
       "      <td>8966e092037ffff</td>\n",
       "    </tr>\n",
       "  </tbody>\n",
       "</table>\n",
       "</div>"
      ],
      "text/plain": [
       "             COD_DANE_ANM  CONDICION_FISICA  P_ALFABETA  PA1_GRP_ETNIC  \\\n",
       "0  1100110000000051110309               2.0         1.0              6   \n",
       "1  1100110000000051110309               2.0         1.0              6   \n",
       "2  1100110000000051110309               2.0         1.0              6   \n",
       "3  1100110000000051110309               2.0         1.0              6   \n",
       "4  1100110000000051110111               2.0         1.0              6   \n",
       "\n",
       "   P_SEXO                COD_DANE              hex  \n",
       "0       1  1100110000000051110309  8966e092027ffff  \n",
       "1       2  1100110000000051110309  8966e092027ffff  \n",
       "2       2  1100110000000051110309  8966e092027ffff  \n",
       "3       1  1100110000000051110309  8966e092027ffff  \n",
       "4       2  1100110000000051110111  8966e092037ffff  "
      ]
     },
     "execution_count": 154,
     "metadata": {},
     "output_type": "execute_result"
    }
   ],
   "source": [
    "censo_bogota_pers.head()"
   ]
  },
  {
   "cell_type": "code",
   "execution_count": 156,
   "metadata": {},
   "outputs": [],
   "source": [
    "def f(x):\n",
    "    if x==1:\n",
    "        return 1\n",
    "    return 0\n",
    "censo_bogota_pers['CONDICION_FISICA_1'] = censo_bogota_pers['CONDICION_FISICA'].apply(f)"
   ]
  },
  {
   "cell_type": "code",
   "execution_count": 157,
   "metadata": {},
   "outputs": [
    {
     "data": {
      "text/html": [
       "<div>\n",
       "<style scoped>\n",
       "    .dataframe tbody tr th:only-of-type {\n",
       "        vertical-align: middle;\n",
       "    }\n",
       "\n",
       "    .dataframe tbody tr th {\n",
       "        vertical-align: top;\n",
       "    }\n",
       "\n",
       "    .dataframe thead th {\n",
       "        text-align: right;\n",
       "    }\n",
       "</style>\n",
       "<table border=\"1\" class=\"dataframe\">\n",
       "  <thead>\n",
       "    <tr style=\"text-align: right;\">\n",
       "      <th></th>\n",
       "      <th>COD_DANE_ANM</th>\n",
       "      <th>CONDICION_FISICA</th>\n",
       "      <th>P_ALFABETA</th>\n",
       "      <th>PA1_GRP_ETNIC</th>\n",
       "      <th>P_SEXO</th>\n",
       "      <th>COD_DANE</th>\n",
       "      <th>hex</th>\n",
       "      <th>CONDICION_FISICA_1</th>\n",
       "    </tr>\n",
       "  </thead>\n",
       "  <tbody>\n",
       "    <tr>\n",
       "      <th>0</th>\n",
       "      <td>1100110000000051110309</td>\n",
       "      <td>2.0</td>\n",
       "      <td>1.0</td>\n",
       "      <td>6</td>\n",
       "      <td>1</td>\n",
       "      <td>1100110000000051110309</td>\n",
       "      <td>8966e092027ffff</td>\n",
       "      <td>0</td>\n",
       "    </tr>\n",
       "    <tr>\n",
       "      <th>1</th>\n",
       "      <td>1100110000000051110309</td>\n",
       "      <td>2.0</td>\n",
       "      <td>1.0</td>\n",
       "      <td>6</td>\n",
       "      <td>2</td>\n",
       "      <td>1100110000000051110309</td>\n",
       "      <td>8966e092027ffff</td>\n",
       "      <td>0</td>\n",
       "    </tr>\n",
       "    <tr>\n",
       "      <th>2</th>\n",
       "      <td>1100110000000051110309</td>\n",
       "      <td>2.0</td>\n",
       "      <td>1.0</td>\n",
       "      <td>6</td>\n",
       "      <td>2</td>\n",
       "      <td>1100110000000051110309</td>\n",
       "      <td>8966e092027ffff</td>\n",
       "      <td>0</td>\n",
       "    </tr>\n",
       "    <tr>\n",
       "      <th>3</th>\n",
       "      <td>1100110000000051110309</td>\n",
       "      <td>2.0</td>\n",
       "      <td>1.0</td>\n",
       "      <td>6</td>\n",
       "      <td>1</td>\n",
       "      <td>1100110000000051110309</td>\n",
       "      <td>8966e092027ffff</td>\n",
       "      <td>0</td>\n",
       "    </tr>\n",
       "    <tr>\n",
       "      <th>4</th>\n",
       "      <td>1100110000000051110111</td>\n",
       "      <td>2.0</td>\n",
       "      <td>1.0</td>\n",
       "      <td>6</td>\n",
       "      <td>2</td>\n",
       "      <td>1100110000000051110111</td>\n",
       "      <td>8966e092037ffff</td>\n",
       "      <td>0</td>\n",
       "    </tr>\n",
       "  </tbody>\n",
       "</table>\n",
       "</div>"
      ],
      "text/plain": [
       "             COD_DANE_ANM  CONDICION_FISICA  P_ALFABETA  PA1_GRP_ETNIC  \\\n",
       "0  1100110000000051110309               2.0         1.0              6   \n",
       "1  1100110000000051110309               2.0         1.0              6   \n",
       "2  1100110000000051110309               2.0         1.0              6   \n",
       "3  1100110000000051110309               2.0         1.0              6   \n",
       "4  1100110000000051110111               2.0         1.0              6   \n",
       "\n",
       "   P_SEXO                COD_DANE              hex  CONDICION_FISICA_1  \n",
       "0       1  1100110000000051110309  8966e092027ffff                   0  \n",
       "1       2  1100110000000051110309  8966e092027ffff                   0  \n",
       "2       2  1100110000000051110309  8966e092027ffff                   0  \n",
       "3       1  1100110000000051110309  8966e092027ffff                   0  \n",
       "4       2  1100110000000051110111  8966e092037ffff                   0  "
      ]
     },
     "execution_count": 157,
     "metadata": {},
     "output_type": "execute_result"
    }
   ],
   "source": [
    "censo_bogota_pers.head()"
   ]
  },
  {
   "cell_type": "code",
   "execution_count": 160,
   "metadata": {},
   "outputs": [
    {
     "data": {
      "text/html": [
       "<div>\n",
       "<style scoped>\n",
       "    .dataframe tbody tr th:only-of-type {\n",
       "        vertical-align: middle;\n",
       "    }\n",
       "\n",
       "    .dataframe tbody tr th {\n",
       "        vertical-align: top;\n",
       "    }\n",
       "\n",
       "    .dataframe thead th {\n",
       "        text-align: right;\n",
       "    }\n",
       "</style>\n",
       "<table border=\"1\" class=\"dataframe\">\n",
       "  <thead>\n",
       "    <tr style=\"text-align: right;\">\n",
       "      <th></th>\n",
       "      <th>hex</th>\n",
       "      <th>CONDICION_FISICA_1</th>\n",
       "    </tr>\n",
       "  </thead>\n",
       "  <tbody>\n",
       "    <tr>\n",
       "      <th>0</th>\n",
       "      <td>8966e082003ffff</td>\n",
       "      <td>425</td>\n",
       "    </tr>\n",
       "    <tr>\n",
       "      <th>1</th>\n",
       "      <td>8966e082007ffff</td>\n",
       "      <td>651</td>\n",
       "    </tr>\n",
       "    <tr>\n",
       "      <th>2</th>\n",
       "      <td>8966e08200bffff</td>\n",
       "      <td>113</td>\n",
       "    </tr>\n",
       "    <tr>\n",
       "      <th>3</th>\n",
       "      <td>8966e08200fffff</td>\n",
       "      <td>413</td>\n",
       "    </tr>\n",
       "    <tr>\n",
       "      <th>4</th>\n",
       "      <td>8966e082013ffff</td>\n",
       "      <td>648</td>\n",
       "    </tr>\n",
       "    <tr>\n",
       "      <th>...</th>\n",
       "      <td>...</td>\n",
       "      <td>...</td>\n",
       "    </tr>\n",
       "    <tr>\n",
       "      <th>3157</th>\n",
       "      <td>8966e4669a3ffff</td>\n",
       "      <td>1</td>\n",
       "    </tr>\n",
       "    <tr>\n",
       "      <th>3158</th>\n",
       "      <td>8966e4669a7ffff</td>\n",
       "      <td>2</td>\n",
       "    </tr>\n",
       "    <tr>\n",
       "      <th>3159</th>\n",
       "      <td>8966e4669b3ffff</td>\n",
       "      <td>12</td>\n",
       "    </tr>\n",
       "    <tr>\n",
       "      <th>3160</th>\n",
       "      <td>8966e4669b7ffff</td>\n",
       "      <td>0</td>\n",
       "    </tr>\n",
       "    <tr>\n",
       "      <th>3161</th>\n",
       "      <td>8966e466d2fffff</td>\n",
       "      <td>87</td>\n",
       "    </tr>\n",
       "  </tbody>\n",
       "</table>\n",
       "<p>3162 rows × 2 columns</p>\n",
       "</div>"
      ],
      "text/plain": [
       "                  hex  CONDICION_FISICA_1\n",
       "0     8966e082003ffff                 425\n",
       "1     8966e082007ffff                 651\n",
       "2     8966e08200bffff                 113\n",
       "3     8966e08200fffff                 413\n",
       "4     8966e082013ffff                 648\n",
       "...               ...                 ...\n",
       "3157  8966e4669a3ffff                   1\n",
       "3158  8966e4669a7ffff                   2\n",
       "3159  8966e4669b3ffff                  12\n",
       "3160  8966e4669b7ffff                   0\n",
       "3161  8966e466d2fffff                  87\n",
       "\n",
       "[3162 rows x 2 columns]"
      ]
     },
     "execution_count": 160,
     "metadata": {},
     "output_type": "execute_result"
    }
   ],
   "source": [
    "censo_bogota_pers[['hex', 'CONDICION_FISICA_1']].groupby('hex').sum().reset_index()"
   ]
  },
  {
   "cell_type": "code",
   "execution_count": 161,
   "metadata": {},
   "outputs": [],
   "source": [
    "def f(x):\n",
    "    if x==2:\n",
    "        return 1\n",
    "    return 0\n",
    "censo_bogota_pers['P_ALFABETA_1'] = censo_bogota_pers['P_ALFABETA'].apply(f)"
   ]
  },
  {
   "cell_type": "code",
   "execution_count": 170,
   "metadata": {},
   "outputs": [
    {
     "data": {
      "text/html": [
       "<div>\n",
       "<style scoped>\n",
       "    .dataframe tbody tr th:only-of-type {\n",
       "        vertical-align: middle;\n",
       "    }\n",
       "\n",
       "    .dataframe tbody tr th {\n",
       "        vertical-align: top;\n",
       "    }\n",
       "\n",
       "    .dataframe thead th {\n",
       "        text-align: right;\n",
       "    }\n",
       "</style>\n",
       "<table border=\"1\" class=\"dataframe\">\n",
       "  <thead>\n",
       "    <tr style=\"text-align: right;\">\n",
       "      <th></th>\n",
       "      <th>hex</th>\n",
       "      <th>P_ALFABETA_1</th>\n",
       "    </tr>\n",
       "  </thead>\n",
       "  <tbody>\n",
       "    <tr>\n",
       "      <th>0</th>\n",
       "      <td>8966e082003ffff</td>\n",
       "      <td>98</td>\n",
       "    </tr>\n",
       "    <tr>\n",
       "      <th>1</th>\n",
       "      <td>8966e082007ffff</td>\n",
       "      <td>163</td>\n",
       "    </tr>\n",
       "    <tr>\n",
       "      <th>2</th>\n",
       "      <td>8966e08200bffff</td>\n",
       "      <td>29</td>\n",
       "    </tr>\n",
       "    <tr>\n",
       "      <th>3</th>\n",
       "      <td>8966e08200fffff</td>\n",
       "      <td>110</td>\n",
       "    </tr>\n",
       "    <tr>\n",
       "      <th>4</th>\n",
       "      <td>8966e082013ffff</td>\n",
       "      <td>126</td>\n",
       "    </tr>\n",
       "    <tr>\n",
       "      <th>...</th>\n",
       "      <td>...</td>\n",
       "      <td>...</td>\n",
       "    </tr>\n",
       "    <tr>\n",
       "      <th>3157</th>\n",
       "      <td>8966e4669a3ffff</td>\n",
       "      <td>0</td>\n",
       "    </tr>\n",
       "    <tr>\n",
       "      <th>3158</th>\n",
       "      <td>8966e4669a7ffff</td>\n",
       "      <td>2</td>\n",
       "    </tr>\n",
       "    <tr>\n",
       "      <th>3159</th>\n",
       "      <td>8966e4669b3ffff</td>\n",
       "      <td>13</td>\n",
       "    </tr>\n",
       "    <tr>\n",
       "      <th>3160</th>\n",
       "      <td>8966e4669b7ffff</td>\n",
       "      <td>0</td>\n",
       "    </tr>\n",
       "    <tr>\n",
       "      <th>3161</th>\n",
       "      <td>8966e466d2fffff</td>\n",
       "      <td>19</td>\n",
       "    </tr>\n",
       "  </tbody>\n",
       "</table>\n",
       "<p>3162 rows × 2 columns</p>\n",
       "</div>"
      ],
      "text/plain": [
       "                  hex  P_ALFABETA_1\n",
       "0     8966e082003ffff            98\n",
       "1     8966e082007ffff           163\n",
       "2     8966e08200bffff            29\n",
       "3     8966e08200fffff           110\n",
       "4     8966e082013ffff           126\n",
       "...               ...           ...\n",
       "3157  8966e4669a3ffff             0\n",
       "3158  8966e4669a7ffff             2\n",
       "3159  8966e4669b3ffff            13\n",
       "3160  8966e4669b7ffff             0\n",
       "3161  8966e466d2fffff            19\n",
       "\n",
       "[3162 rows x 2 columns]"
      ]
     },
     "execution_count": 170,
     "metadata": {},
     "output_type": "execute_result"
    }
   ],
   "source": [
    "censo_bogota_pers[['hex', 'P_ALFABETA_1']].groupby('hex').sum().reset_index()"
   ]
  },
  {
   "cell_type": "code",
   "execution_count": 8,
   "metadata": {},
   "outputs": [
    {
     "data": {
      "text/plain": [
       "3.0    1185486\n",
       "1.0    1052926\n",
       "2.0    1006754\n",
       "4.0     427478\n",
       "5.0      66779\n",
       "Name: P_PARENTESCOR, dtype: int64"
      ]
     },
     "execution_count": 8,
     "metadata": {},
     "output_type": "execute_result"
    }
   ],
   "source": [
    "censo_bogota_pers[censo_bogota_pers.P_SEXO==2].P_PARENTESCOR.value_counts()\n",
    "\n"
   ]
  },
  {
   "cell_type": "code",
   "execution_count": null,
   "metadata": {},
   "outputs": [],
   "source": []
  }
 ],
 "metadata": {
  "kernelspec": {
   "display_name": "env",
   "language": "python",
   "name": "python3"
  },
  "language_info": {
   "codemirror_mode": {
    "name": "ipython",
    "version": 3
   },
   "file_extension": ".py",
   "mimetype": "text/x-python",
   "name": "python",
   "nbconvert_exporter": "python",
   "pygments_lexer": "ipython3",
   "version": "3.9.6"
  },
  "orig_nbformat": 4
 },
 "nbformat": 4,
 "nbformat_minor": 2
}
