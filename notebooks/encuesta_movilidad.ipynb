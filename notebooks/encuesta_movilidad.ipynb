{
 "cells": [
  {
   "cell_type": "code",
   "execution_count": 1,
   "metadata": {},
   "outputs": [],
   "source": [
    "# python\n",
    "from pathlib import Path\n",
    "import json\n",
    "\n",
    "# database\n",
    "import sqlite3\n",
    "\n",
    "# data analysis\n",
    "import pandas as pd\n",
    "import geopandas as gpd\n",
    "\n",
    "# geo\n",
    "from shapely.geometry import Point"
   ]
  },
  {
   "cell_type": "code",
   "execution_count": 2,
   "metadata": {},
   "outputs": [],
   "source": [
    "current_dir = Path.cwd()\n",
    "parent_dir = current_dir.parent"
   ]
  },
  {
   "cell_type": "code",
   "execution_count": 3,
   "metadata": {},
   "outputs": [],
   "source": [
    "conn = sqlite3.connect(parent_dir / 'data' / 'caf_accessibility.db')\n",
    "\n",
    "def get_dataframe_from_sqlite_db(table_name: str, conn: sqlite3.Connection=conn, geo_type: str='polygon'):\n",
    "    # columns = utils.concat_list()   \n",
    "    columns = '*'\n",
    "    df = pd.read_sql(f'SELECT {columns} FROM {table_name}', conn)\n",
    "    if geo_type == 'polygon':\n",
    "        geo = get_geo_from_sqlite_db(table_name, conn)\n",
    "    elif geo_type == 'point':\n",
    "        geo = get_geo_from_sqlite_db(table_name, conn)\n",
    "        features = geo['features']\n",
    "        lat = list()\n",
    "        lon = list()\n",
    "        for f in features:\n",
    "            lat.append(f['geometry']['coordinates'][1])\n",
    "            lon.append(f['geometry']['coordinates'][0])\n",
    "        geo = pd.DataFrame(data={'lat': lat, 'lon': lon})\n",
    "    return df, geo\n",
    "\n",
    "def get_geo_from_sqlite_db(table_name: str, conn: sqlite3.Connection=conn):\n",
    "    c = conn.cursor()\n",
    "    c.execute(f'SELECT geometry FROM Geos WHERE table_ = \"{table_name}\"')\n",
    "    result = c.fetchone()[0]\n",
    "    return json.loads(result)"
   ]
  },
  {
   "attachments": {},
   "cell_type": "markdown",
   "metadata": {},
   "source": [
    "# Bogotá"
   ]
  },
  {
   "attachments": {},
   "cell_type": "markdown",
   "metadata": {},
   "source": [
    "## Movilidad"
   ]
  },
  {
   "cell_type": "code",
   "execution_count": 4,
   "metadata": {},
   "outputs": [
    {
     "name": "stderr",
     "output_type": "stream",
     "text": [
      "/var/folders/0r/zp2mz7zj28xdnvbwvnqwf8vw0000gn/T/ipykernel_12800/561591205.py:1: DtypeWarning: Columns (12,13) have mixed types. Specify dtype option on import or set low_memory=False.\n",
      "  bta_encuesta_hogares = pd.read_csv(\n"
     ]
    }
   ],
   "source": [
    "bta_encuesta_hogares = pd.read_csv(\n",
    "    parent_dir / \"data\" / \"encuesta_movilidad\" / \"bogota\" / \"HogaresEODH2019.csv\", sep=\";\"\n",
    ")\n",
    "bta_encuesta_personas = pd.read_csv(\n",
    "    parent_dir / \"data\" / \"encuesta_movilidad\" / \"bogota\" / \"PersonasEODH2019.csv\", sep=\";\"\n",
    ")\n",
    "bta_encuesta_viajes = pd.read_csv(\n",
    "    parent_dir / \"data\" / \"encuesta_movilidad\" / \"bogota\" / \"ViajesEODH2019.csv\", sep=\";\"\n",
    ")"
   ]
  },
  {
   "cell_type": "code",
   "execution_count": 5,
   "metadata": {},
   "outputs": [],
   "source": [
    "temp = bta_encuesta_viajes[[\"id_hogar\", \"id_persona\", \"modo_principal\", \"id_viaje\"]].groupby([\"id_hogar\", \"id_persona\", \"modo_principal\"]).count().reset_index()\n",
    "temp = temp.rename(columns={\"id_viaje\": \"count\"})\n",
    "temp[\"composite_id\"] = temp[\"id_hogar\"].astype(str) + \"_\" + temp[\"id_persona\"].astype(str)\n",
    "temp.sort_values(by=\"count\", ascending=False, inplace=True)\n",
    "temp.drop_duplicates(subset=\"composite_id\", keep=\"first\", inplace=True)"
   ]
  },
  {
   "cell_type": "code",
   "execution_count": 6,
   "metadata": {},
   "outputs": [
    {
     "data": {
      "text/html": [
       "<div>\n",
       "<style scoped>\n",
       "    .dataframe tbody tr th:only-of-type {\n",
       "        vertical-align: middle;\n",
       "    }\n",
       "\n",
       "    .dataframe tbody tr th {\n",
       "        vertical-align: top;\n",
       "    }\n",
       "\n",
       "    .dataframe thead th {\n",
       "        text-align: right;\n",
       "    }\n",
       "</style>\n",
       "<table border=\"1\" class=\"dataframe\">\n",
       "  <thead>\n",
       "    <tr style=\"text-align: right;\">\n",
       "      <th></th>\n",
       "      <th>id_hogar</th>\n",
       "      <th>id_persona</th>\n",
       "      <th>modo_principal</th>\n",
       "      <th>count</th>\n",
       "      <th>composite_id</th>\n",
       "    </tr>\n",
       "  </thead>\n",
       "  <tbody>\n",
       "    <tr>\n",
       "      <th>18909</th>\n",
       "      <td>18803</td>\n",
       "      <td>2</td>\n",
       "      <td>A pie</td>\n",
       "      <td>11</td>\n",
       "      <td>18803_2</td>\n",
       "    </tr>\n",
       "    <tr>\n",
       "      <th>63929</th>\n",
       "      <td>P04963</td>\n",
       "      <td>2</td>\n",
       "      <td>A pie</td>\n",
       "      <td>10</td>\n",
       "      <td>P04963_2</td>\n",
       "    </tr>\n",
       "    <tr>\n",
       "      <th>54697</th>\n",
       "      <td>P00860</td>\n",
       "      <td>2</td>\n",
       "      <td>Auto</td>\n",
       "      <td>9</td>\n",
       "      <td>P00860_2</td>\n",
       "    </tr>\n",
       "    <tr>\n",
       "      <th>9577</th>\n",
       "      <td>14592</td>\n",
       "      <td>1</td>\n",
       "      <td>Auto</td>\n",
       "      <td>9</td>\n",
       "      <td>14592_1</td>\n",
       "    </tr>\n",
       "    <tr>\n",
       "      <th>68828</th>\n",
       "      <td>P08648</td>\n",
       "      <td>2</td>\n",
       "      <td>A pie</td>\n",
       "      <td>9</td>\n",
       "      <td>P08648_2</td>\n",
       "    </tr>\n",
       "  </tbody>\n",
       "</table>\n",
       "</div>"
      ],
      "text/plain": [
       "      id_hogar  id_persona modo_principal  count composite_id\n",
       "18909    18803           2          A pie     11      18803_2\n",
       "63929   P04963           2          A pie     10     P04963_2\n",
       "54697   P00860           2           Auto      9     P00860_2\n",
       "9577     14592           1           Auto      9      14592_1\n",
       "68828   P08648           2          A pie      9     P08648_2"
      ]
     },
     "execution_count": 6,
     "metadata": {},
     "output_type": "execute_result"
    }
   ],
   "source": [
    "temp.head()"
   ]
  },
  {
   "attachments": {},
   "cell_type": "markdown",
   "metadata": {},
   "source": [
    "## Encuesta hogares"
   ]
  },
  {
   "cell_type": "code",
   "execution_count": 7,
   "metadata": {},
   "outputs": [],
   "source": [
    "temp = temp.merge(\n",
    "    bta_encuesta_hogares[['Id_Hogar', 'Latitud', 'Longitud']],\n",
    "    left_on='id_hogar',\n",
    "    right_on='Id_Hogar',\n",
    "    how='left'\n",
    ")[['id_hogar', 'id_persona', 'modo_principal', 'composite_id', 'Latitud', 'Longitud']]"
   ]
  },
  {
   "cell_type": "code",
   "execution_count": 8,
   "metadata": {},
   "outputs": [],
   "source": [
    "def f(x):\n",
    "    \"\"\"Transforms lat and long coordinates to Point object.\"\"\"\n",
    "    try:\n",
    "        longitud = float(str(x[\"Longitud\"]).replace(\",\", \".\"))\n",
    "        latitud = float(str(x[\"Latitud\"]).replace(\",\", \".\"))\n",
    "    except:\n",
    "        print(longitud)\n",
    "    point = Point(longitud, latitud)\n",
    "    return point\n",
    "temp[\"geometry\"] = temp.apply(f, axis=1)\n",
    "temp.drop([\"Latitud\", \"Longitud\"], axis=1, inplace=True)"
   ]
  },
  {
   "cell_type": "code",
   "execution_count": 9,
   "metadata": {},
   "outputs": [
    {
     "data": {
      "text/html": [
       "<div>\n",
       "<style scoped>\n",
       "    .dataframe tbody tr th:only-of-type {\n",
       "        vertical-align: middle;\n",
       "    }\n",
       "\n",
       "    .dataframe tbody tr th {\n",
       "        vertical-align: top;\n",
       "    }\n",
       "\n",
       "    .dataframe thead th {\n",
       "        text-align: right;\n",
       "    }\n",
       "</style>\n",
       "<table border=\"1\" class=\"dataframe\">\n",
       "  <thead>\n",
       "    <tr style=\"text-align: right;\">\n",
       "      <th></th>\n",
       "      <th>id_hogar</th>\n",
       "      <th>id_persona</th>\n",
       "      <th>modo_principal</th>\n",
       "      <th>composite_id</th>\n",
       "      <th>geometry</th>\n",
       "    </tr>\n",
       "  </thead>\n",
       "  <tbody>\n",
       "    <tr>\n",
       "      <th>0</th>\n",
       "      <td>18803</td>\n",
       "      <td>2</td>\n",
       "      <td>A pie</td>\n",
       "      <td>18803_2</td>\n",
       "      <td>POINT (-74.2136983 4.5735933)</td>\n",
       "    </tr>\n",
       "    <tr>\n",
       "      <th>1</th>\n",
       "      <td>P04963</td>\n",
       "      <td>2</td>\n",
       "      <td>A pie</td>\n",
       "      <td>P04963_2</td>\n",
       "      <td>POINT (-74.0863301815 4.75262196411)</td>\n",
       "    </tr>\n",
       "    <tr>\n",
       "      <th>2</th>\n",
       "      <td>P00860</td>\n",
       "      <td>2</td>\n",
       "      <td>Auto</td>\n",
       "      <td>P00860_2</td>\n",
       "      <td>POINT (-74.0501974176 4.85657176123)</td>\n",
       "    </tr>\n",
       "    <tr>\n",
       "      <th>3</th>\n",
       "      <td>14592</td>\n",
       "      <td>1</td>\n",
       "      <td>Auto</td>\n",
       "      <td>14592_1</td>\n",
       "      <td>POINT (-74.267206 4.7261872)</td>\n",
       "    </tr>\n",
       "    <tr>\n",
       "      <th>4</th>\n",
       "      <td>P08648</td>\n",
       "      <td>2</td>\n",
       "      <td>A pie</td>\n",
       "      <td>P08648_2</td>\n",
       "      <td>POINT (-74.0380889119 4.76412182479)</td>\n",
       "    </tr>\n",
       "  </tbody>\n",
       "</table>\n",
       "</div>"
      ],
      "text/plain": [
       "  id_hogar  id_persona modo_principal composite_id  \\\n",
       "0    18803           2          A pie      18803_2   \n",
       "1   P04963           2          A pie     P04963_2   \n",
       "2   P00860           2           Auto     P00860_2   \n",
       "3    14592           1           Auto      14592_1   \n",
       "4   P08648           2          A pie     P08648_2   \n",
       "\n",
       "                               geometry  \n",
       "0         POINT (-74.2136983 4.5735933)  \n",
       "1  POINT (-74.0863301815 4.75262196411)  \n",
       "2  POINT (-74.0501974176 4.85657176123)  \n",
       "3          POINT (-74.267206 4.7261872)  \n",
       "4  POINT (-74.0380889119 4.76412182479)  "
      ]
     },
     "execution_count": 9,
     "metadata": {},
     "output_type": "execute_result"
    }
   ],
   "source": [
    "temp.head()"
   ]
  },
  {
   "cell_type": "code",
   "execution_count": 10,
   "metadata": {},
   "outputs": [
    {
     "data": {
      "text/plain": [
       "A pie                            19037\n",
       "TransMilenio                      7178\n",
       "Auto                              6839\n",
       "SITP Zonal                        4125\n",
       "Bicicleta                         3164\n",
       "SITP Provisional                  2457\n",
       "Moto                              2387\n",
       "Transporte publico individual     1921\n",
       "Transporte informal               1684\n",
       "Transporte Escolar                1664\n",
       "Intermunicipal                    1492\n",
       "Otro                               784\n",
       "Alimentador                        660\n",
       "Bicitaxi                            55\n",
       "Patineta                            33\n",
       "Cable                                1\n",
       "Name: modo_principal, dtype: int64"
      ]
     },
     "execution_count": 10,
     "metadata": {},
     "output_type": "execute_result"
    }
   ],
   "source": [
    "temp.modo_principal.value_counts()"
   ]
  },
  {
   "attachments": {},
   "cell_type": "markdown",
   "metadata": {},
   "source": [
    "## Encuesta personas"
   ]
  },
  {
   "cell_type": "code",
   "execution_count": 11,
   "metadata": {},
   "outputs": [],
   "source": [
    "temp2 = bta_encuesta_personas[[\"id_hogar\", \"id_persona\", \"Sexo\", \"p8_id_dificultad_fisica_1\", \"p8_id_dificultad_fisica_2\"]].copy()\n",
    "temp2[\"composite_id\"] = temp2[\"id_hogar\"].astype(str) + \"_\" + temp2[\"id_persona\"].astype(str)"
   ]
  },
  {
   "cell_type": "code",
   "execution_count": 12,
   "metadata": {},
   "outputs": [
    {
     "data": {
      "text/html": [
       "<div>\n",
       "<style scoped>\n",
       "    .dataframe tbody tr th:only-of-type {\n",
       "        vertical-align: middle;\n",
       "    }\n",
       "\n",
       "    .dataframe tbody tr th {\n",
       "        vertical-align: top;\n",
       "    }\n",
       "\n",
       "    .dataframe thead th {\n",
       "        text-align: right;\n",
       "    }\n",
       "</style>\n",
       "<table border=\"1\" class=\"dataframe\">\n",
       "  <thead>\n",
       "    <tr style=\"text-align: right;\">\n",
       "      <th></th>\n",
       "      <th>id_hogar</th>\n",
       "      <th>id_persona</th>\n",
       "      <th>Sexo</th>\n",
       "      <th>p8_id_dificultad_fisica_1</th>\n",
       "      <th>p8_id_dificultad_fisica_2</th>\n",
       "      <th>composite_id</th>\n",
       "    </tr>\n",
       "  </thead>\n",
       "  <tbody>\n",
       "    <tr>\n",
       "      <th>0</th>\n",
       "      <td>10005</td>\n",
       "      <td>2</td>\n",
       "      <td>Mujer</td>\n",
       "      <td>0.0</td>\n",
       "      <td>0.0</td>\n",
       "      <td>10005_2</td>\n",
       "    </tr>\n",
       "    <tr>\n",
       "      <th>1</th>\n",
       "      <td>10009</td>\n",
       "      <td>2</td>\n",
       "      <td>Mujer</td>\n",
       "      <td>0.0</td>\n",
       "      <td>0.0</td>\n",
       "      <td>10009_2</td>\n",
       "    </tr>\n",
       "    <tr>\n",
       "      <th>2</th>\n",
       "      <td>10015</td>\n",
       "      <td>2</td>\n",
       "      <td>Mujer</td>\n",
       "      <td>0.0</td>\n",
       "      <td>0.0</td>\n",
       "      <td>10015_2</td>\n",
       "    </tr>\n",
       "    <tr>\n",
       "      <th>3</th>\n",
       "      <td>10017</td>\n",
       "      <td>2</td>\n",
       "      <td>Mujer</td>\n",
       "      <td>0.0</td>\n",
       "      <td>0.0</td>\n",
       "      <td>10017_2</td>\n",
       "    </tr>\n",
       "    <tr>\n",
       "      <th>4</th>\n",
       "      <td>10006</td>\n",
       "      <td>2</td>\n",
       "      <td>Mujer</td>\n",
       "      <td>1.0</td>\n",
       "      <td>0.0</td>\n",
       "      <td>10006_2</td>\n",
       "    </tr>\n",
       "  </tbody>\n",
       "</table>\n",
       "</div>"
      ],
      "text/plain": [
       "  id_hogar  id_persona   Sexo  p8_id_dificultad_fisica_1  \\\n",
       "0    10005           2  Mujer                        0.0   \n",
       "1    10009           2  Mujer                        0.0   \n",
       "2    10015           2  Mujer                        0.0   \n",
       "3    10017           2  Mujer                        0.0   \n",
       "4    10006           2  Mujer                        1.0   \n",
       "\n",
       "   p8_id_dificultad_fisica_2 composite_id  \n",
       "0                        0.0      10005_2  \n",
       "1                        0.0      10009_2  \n",
       "2                        0.0      10015_2  \n",
       "3                        0.0      10017_2  \n",
       "4                        0.0      10006_2  "
      ]
     },
     "execution_count": 12,
     "metadata": {},
     "output_type": "execute_result"
    }
   ],
   "source": [
    "temp2.head()"
   ]
  },
  {
   "cell_type": "code",
   "execution_count": 13,
   "metadata": {},
   "outputs": [],
   "source": [
    "temp = temp.merge(temp2[['Sexo', 'p8_id_dificultad_fisica_1', 'p8_id_dificultad_fisica_2', 'composite_id']], how=\"left\", on=\"composite_id\")"
   ]
  },
  {
   "cell_type": "code",
   "execution_count": 14,
   "metadata": {},
   "outputs": [
    {
     "data": {
      "text/html": [
       "<div>\n",
       "<style scoped>\n",
       "    .dataframe tbody tr th:only-of-type {\n",
       "        vertical-align: middle;\n",
       "    }\n",
       "\n",
       "    .dataframe tbody tr th {\n",
       "        vertical-align: top;\n",
       "    }\n",
       "\n",
       "    .dataframe thead th {\n",
       "        text-align: right;\n",
       "    }\n",
       "</style>\n",
       "<table border=\"1\" class=\"dataframe\">\n",
       "  <thead>\n",
       "    <tr style=\"text-align: right;\">\n",
       "      <th></th>\n",
       "      <th>id_hogar</th>\n",
       "      <th>id_persona</th>\n",
       "      <th>modo_principal</th>\n",
       "      <th>composite_id</th>\n",
       "      <th>geometry</th>\n",
       "      <th>Sexo</th>\n",
       "      <th>p8_id_dificultad_fisica_1</th>\n",
       "      <th>p8_id_dificultad_fisica_2</th>\n",
       "    </tr>\n",
       "  </thead>\n",
       "  <tbody>\n",
       "    <tr>\n",
       "      <th>0</th>\n",
       "      <td>18803</td>\n",
       "      <td>2</td>\n",
       "      <td>A pie</td>\n",
       "      <td>18803_2</td>\n",
       "      <td>POINT (-74.2136983 4.5735933)</td>\n",
       "      <td>Hombre</td>\n",
       "      <td>0.0</td>\n",
       "      <td>0.0</td>\n",
       "    </tr>\n",
       "    <tr>\n",
       "      <th>1</th>\n",
       "      <td>P04963</td>\n",
       "      <td>2</td>\n",
       "      <td>A pie</td>\n",
       "      <td>P04963_2</td>\n",
       "      <td>POINT (-74.0863301815 4.75262196411)</td>\n",
       "      <td>Mujer</td>\n",
       "      <td>0.0</td>\n",
       "      <td>0.0</td>\n",
       "    </tr>\n",
       "    <tr>\n",
       "      <th>2</th>\n",
       "      <td>P00860</td>\n",
       "      <td>2</td>\n",
       "      <td>Auto</td>\n",
       "      <td>P00860_2</td>\n",
       "      <td>POINT (-74.0501974176 4.85657176123)</td>\n",
       "      <td>Mujer</td>\n",
       "      <td>0.0</td>\n",
       "      <td>0.0</td>\n",
       "    </tr>\n",
       "    <tr>\n",
       "      <th>3</th>\n",
       "      <td>14592</td>\n",
       "      <td>1</td>\n",
       "      <td>Auto</td>\n",
       "      <td>14592_1</td>\n",
       "      <td>POINT (-74.267206 4.7261872)</td>\n",
       "      <td>Hombre</td>\n",
       "      <td>0.0</td>\n",
       "      <td>0.0</td>\n",
       "    </tr>\n",
       "    <tr>\n",
       "      <th>4</th>\n",
       "      <td>P08648</td>\n",
       "      <td>2</td>\n",
       "      <td>A pie</td>\n",
       "      <td>P08648_2</td>\n",
       "      <td>POINT (-74.0380889119 4.76412182479)</td>\n",
       "      <td>Mujer</td>\n",
       "      <td>0.0</td>\n",
       "      <td>0.0</td>\n",
       "    </tr>\n",
       "  </tbody>\n",
       "</table>\n",
       "</div>"
      ],
      "text/plain": [
       "  id_hogar  id_persona modo_principal composite_id  \\\n",
       "0    18803           2          A pie      18803_2   \n",
       "1   P04963           2          A pie     P04963_2   \n",
       "2   P00860           2           Auto     P00860_2   \n",
       "3    14592           1           Auto      14592_1   \n",
       "4   P08648           2          A pie     P08648_2   \n",
       "\n",
       "                               geometry    Sexo  p8_id_dificultad_fisica_1  \\\n",
       "0         POINT (-74.2136983 4.5735933)  Hombre                        0.0   \n",
       "1  POINT (-74.0863301815 4.75262196411)   Mujer                        0.0   \n",
       "2  POINT (-74.0501974176 4.85657176123)   Mujer                        0.0   \n",
       "3          POINT (-74.267206 4.7261872)  Hombre                        0.0   \n",
       "4  POINT (-74.0380889119 4.76412182479)   Mujer                        0.0   \n",
       "\n",
       "   p8_id_dificultad_fisica_2  \n",
       "0                        0.0  \n",
       "1                        0.0  \n",
       "2                        0.0  \n",
       "3                        0.0  \n",
       "4                        0.0  "
      ]
     },
     "execution_count": 14,
     "metadata": {},
     "output_type": "execute_result"
    }
   ],
   "source": [
    "temp.head()"
   ]
  },
  {
   "attachments": {},
   "cell_type": "markdown",
   "metadata": {},
   "source": [
    "## Obtener valores para la aplicación\n",
    "\n",
    "Valores a obtener: peatón, bicicleta, mujer, movilidad de cuidado"
   ]
  },
  {
   "cell_type": "code",
   "execution_count": 15,
   "metadata": {},
   "outputs": [],
   "source": [
    "# Peatones\n",
    "def f(x):\n",
    "    if x==\"A pie\":\n",
    "        return 1\n",
    "    return 0\n",
    "temp[\"peaton\"] = temp[\"modo_principal\"].apply(f)"
   ]
  },
  {
   "cell_type": "code",
   "execution_count": 16,
   "metadata": {},
   "outputs": [],
   "source": [
    "# Bicicleta\n",
    "def f(x):\n",
    "    if x==\"Bicicleta\":\n",
    "        return 1\n",
    "    return 0\n",
    "temp[\"bicicleta\"] = temp[\"modo_principal\"].apply(f)"
   ]
  },
  {
   "cell_type": "code",
   "execution_count": 17,
   "metadata": {},
   "outputs": [],
   "source": [
    "# Mujer\n",
    "def f(x):\n",
    "    if x==\"Mujer\":\n",
    "        return 1\n",
    "    return 0\n",
    "temp[\"mujer\"] = temp[\"Sexo\"].apply(f)"
   ]
  },
  {
   "cell_type": "code",
   "execution_count": 18,
   "metadata": {},
   "outputs": [],
   "source": [
    "# Movilidad de cuidado\n",
    "def f(x):\n",
    "    if x>0:\n",
    "        return 1\n",
    "    return 0\n",
    "temp[\"movilidad_cuidado\"] = temp[\"p8_id_dificultad_fisica_1\"] + temp[\"p8_id_dificultad_fisica_2\"]\n",
    "temp[\"movilidad_cuidado\"] = temp[\"movilidad_cuidado\"].apply(f)"
   ]
  },
  {
   "cell_type": "code",
   "execution_count": 19,
   "metadata": {},
   "outputs": [
    {
     "data": {
      "text/html": [
       "<div>\n",
       "<style scoped>\n",
       "    .dataframe tbody tr th:only-of-type {\n",
       "        vertical-align: middle;\n",
       "    }\n",
       "\n",
       "    .dataframe tbody tr th {\n",
       "        vertical-align: top;\n",
       "    }\n",
       "\n",
       "    .dataframe thead th {\n",
       "        text-align: right;\n",
       "    }\n",
       "</style>\n",
       "<table border=\"1\" class=\"dataframe\">\n",
       "  <thead>\n",
       "    <tr style=\"text-align: right;\">\n",
       "      <th></th>\n",
       "      <th>peaton</th>\n",
       "      <th>bicicleta</th>\n",
       "      <th>mujer</th>\n",
       "      <th>movilidad_cuidado</th>\n",
       "      <th>geometry</th>\n",
       "    </tr>\n",
       "  </thead>\n",
       "  <tbody>\n",
       "    <tr>\n",
       "      <th>0</th>\n",
       "      <td>1</td>\n",
       "      <td>0</td>\n",
       "      <td>0</td>\n",
       "      <td>0</td>\n",
       "      <td>POINT (-74.2136983 4.5735933)</td>\n",
       "    </tr>\n",
       "    <tr>\n",
       "      <th>1</th>\n",
       "      <td>1</td>\n",
       "      <td>0</td>\n",
       "      <td>1</td>\n",
       "      <td>0</td>\n",
       "      <td>POINT (-74.0863301815 4.75262196411)</td>\n",
       "    </tr>\n",
       "    <tr>\n",
       "      <th>2</th>\n",
       "      <td>0</td>\n",
       "      <td>0</td>\n",
       "      <td>1</td>\n",
       "      <td>0</td>\n",
       "      <td>POINT (-74.0501974176 4.85657176123)</td>\n",
       "    </tr>\n",
       "    <tr>\n",
       "      <th>3</th>\n",
       "      <td>0</td>\n",
       "      <td>0</td>\n",
       "      <td>0</td>\n",
       "      <td>0</td>\n",
       "      <td>POINT (-74.267206 4.7261872)</td>\n",
       "    </tr>\n",
       "    <tr>\n",
       "      <th>4</th>\n",
       "      <td>1</td>\n",
       "      <td>0</td>\n",
       "      <td>1</td>\n",
       "      <td>0</td>\n",
       "      <td>POINT (-74.0380889119 4.76412182479)</td>\n",
       "    </tr>\n",
       "  </tbody>\n",
       "</table>\n",
       "</div>"
      ],
      "text/plain": [
       "   peaton  bicicleta  mujer  movilidad_cuidado  \\\n",
       "0       1          0      0                  0   \n",
       "1       1          0      1                  0   \n",
       "2       0          0      1                  0   \n",
       "3       0          0      0                  0   \n",
       "4       1          0      1                  0   \n",
       "\n",
       "                               geometry  \n",
       "0         POINT (-74.2136983 4.5735933)  \n",
       "1  POINT (-74.0863301815 4.75262196411)  \n",
       "2  POINT (-74.0501974176 4.85657176123)  \n",
       "3          POINT (-74.267206 4.7261872)  \n",
       "4  POINT (-74.0380889119 4.76412182479)  "
      ]
     },
     "execution_count": 19,
     "metadata": {},
     "output_type": "execute_result"
    }
   ],
   "source": [
    "temp = temp[['peaton', 'bicicleta', 'mujer', 'movilidad_cuidado', 'geometry']]\n",
    "temp.head()"
   ]
  },
  {
   "cell_type": "code",
   "execution_count": 20,
   "metadata": {},
   "outputs": [],
   "source": [
    "temp = gpd.GeoDataFrame(temp, geometry=\"geometry\")"
   ]
  },
  {
   "attachments": {},
   "cell_type": "markdown",
   "metadata": {},
   "source": [
    "## Accesibilidad"
   ]
  },
  {
   "cell_type": "code",
   "execution_count": 21,
   "metadata": {},
   "outputs": [],
   "source": [
    "accessibility_df, accessibility_geo = get_dataframe_from_sqlite_db(\n",
    "    table_name='Accessibility', conn=conn)\n",
    "accessibility_geo = gpd.GeoDataFrame.from_features(accessibility_geo['features'])\n",
    "accessibility_df['geometry'] = accessibility_geo.geometry\n",
    "accessibility_df = gpd.GeoDataFrame(accessibility_df, geometry='geometry')"
   ]
  },
  {
   "cell_type": "code",
   "execution_count": 22,
   "metadata": {},
   "outputs": [
    {
     "name": "stderr",
     "output_type": "stream",
     "text": [
      "/Users/cristiantorres/Desktop/work/caf/caf-accessibility-dashboard/env/lib/python3.9/site-packages/IPython/core/interactiveshell.py:3400: FutureWarning: The `op` parameter is deprecated and will be removed in a future release. Please use the `predicate` parameter instead.\n",
      "  if await self.run_code(code, result, async_=asy):\n"
     ]
    }
   ],
   "source": [
    "temp = gpd.sjoin(temp, accessibility_df[['geometry', 'hex']], how='left', op='within').reset_index(drop=True)"
   ]
  },
  {
   "cell_type": "code",
   "execution_count": 23,
   "metadata": {},
   "outputs": [
    {
     "data": {
      "text/plain": [
       "peaton                  0\n",
       "bicicleta               0\n",
       "mujer                   0\n",
       "movilidad_cuidado       0\n",
       "geometry                0\n",
       "index_right          5161\n",
       "hex                  5161\n",
       "dtype: int64"
      ]
     },
     "execution_count": 23,
     "metadata": {},
     "output_type": "execute_result"
    }
   ],
   "source": [
    "temp.isnull().sum()"
   ]
  },
  {
   "cell_type": "code",
   "execution_count": 24,
   "metadata": {},
   "outputs": [],
   "source": [
    "temp.dropna(subset=['hex'], inplace=True)\n",
    "temp = temp[['peaton', 'bicicleta', 'mujer', 'movilidad_cuidado', 'hex']]"
   ]
  },
  {
   "cell_type": "code",
   "execution_count": 25,
   "metadata": {},
   "outputs": [
    {
     "data": {
      "text/html": [
       "<div>\n",
       "<style scoped>\n",
       "    .dataframe tbody tr th:only-of-type {\n",
       "        vertical-align: middle;\n",
       "    }\n",
       "\n",
       "    .dataframe tbody tr th {\n",
       "        vertical-align: top;\n",
       "    }\n",
       "\n",
       "    .dataframe thead th {\n",
       "        text-align: right;\n",
       "    }\n",
       "</style>\n",
       "<table border=\"1\" class=\"dataframe\">\n",
       "  <thead>\n",
       "    <tr style=\"text-align: right;\">\n",
       "      <th></th>\n",
       "      <th>peaton</th>\n",
       "      <th>bicicleta</th>\n",
       "      <th>mujer</th>\n",
       "      <th>movilidad_cuidado</th>\n",
       "      <th>hex</th>\n",
       "    </tr>\n",
       "  </thead>\n",
       "  <tbody>\n",
       "    <tr>\n",
       "      <th>0</th>\n",
       "      <td>1</td>\n",
       "      <td>0</td>\n",
       "      <td>0</td>\n",
       "      <td>0</td>\n",
       "      <td>8966e09accbffff</td>\n",
       "    </tr>\n",
       "    <tr>\n",
       "      <th>1</th>\n",
       "      <td>1</td>\n",
       "      <td>0</td>\n",
       "      <td>1</td>\n",
       "      <td>0</td>\n",
       "      <td>8966e428197ffff</td>\n",
       "    </tr>\n",
       "    <tr>\n",
       "      <th>2</th>\n",
       "      <td>0</td>\n",
       "      <td>0</td>\n",
       "      <td>1</td>\n",
       "      <td>0</td>\n",
       "      <td>8966e4389dbffff</td>\n",
       "    </tr>\n",
       "    <tr>\n",
       "      <th>4</th>\n",
       "      <td>1</td>\n",
       "      <td>0</td>\n",
       "      <td>1</td>\n",
       "      <td>0</td>\n",
       "      <td>8966e42ad4fffff</td>\n",
       "    </tr>\n",
       "    <tr>\n",
       "      <th>7</th>\n",
       "      <td>1</td>\n",
       "      <td>0</td>\n",
       "      <td>1</td>\n",
       "      <td>1</td>\n",
       "      <td>8966e092e67ffff</td>\n",
       "    </tr>\n",
       "  </tbody>\n",
       "</table>\n",
       "</div>"
      ],
      "text/plain": [
       "   peaton  bicicleta  mujer  movilidad_cuidado              hex\n",
       "0       1          0      0                  0  8966e09accbffff\n",
       "1       1          0      1                  0  8966e428197ffff\n",
       "2       0          0      1                  0  8966e4389dbffff\n",
       "4       1          0      1                  0  8966e42ad4fffff\n",
       "7       1          0      1                  1  8966e092e67ffff"
      ]
     },
     "execution_count": 25,
     "metadata": {},
     "output_type": "execute_result"
    }
   ],
   "source": [
    "temp.head()"
   ]
  },
  {
   "cell_type": "code",
   "execution_count": 26,
   "metadata": {},
   "outputs": [
    {
     "data": {
      "text/html": [
       "<div>\n",
       "<style scoped>\n",
       "    .dataframe tbody tr th:only-of-type {\n",
       "        vertical-align: middle;\n",
       "    }\n",
       "\n",
       "    .dataframe tbody tr th {\n",
       "        vertical-align: top;\n",
       "    }\n",
       "\n",
       "    .dataframe thead th {\n",
       "        text-align: right;\n",
       "    }\n",
       "</style>\n",
       "<table border=\"1\" class=\"dataframe\">\n",
       "  <thead>\n",
       "    <tr style=\"text-align: right;\">\n",
       "      <th></th>\n",
       "      <th>hex</th>\n",
       "      <th>peaton</th>\n",
       "      <th>bicicleta</th>\n",
       "      <th>mujer</th>\n",
       "      <th>movilidad_cuidado</th>\n",
       "    </tr>\n",
       "  </thead>\n",
       "  <tbody>\n",
       "    <tr>\n",
       "      <th>0</th>\n",
       "      <td>8966e082003ffff</td>\n",
       "      <td>10</td>\n",
       "      <td>0</td>\n",
       "      <td>12</td>\n",
       "      <td>0</td>\n",
       "    </tr>\n",
       "    <tr>\n",
       "      <th>1</th>\n",
       "      <td>8966e082007ffff</td>\n",
       "      <td>20</td>\n",
       "      <td>0</td>\n",
       "      <td>23</td>\n",
       "      <td>1</td>\n",
       "    </tr>\n",
       "    <tr>\n",
       "      <th>2</th>\n",
       "      <td>8966e082013ffff</td>\n",
       "      <td>9</td>\n",
       "      <td>0</td>\n",
       "      <td>9</td>\n",
       "      <td>1</td>\n",
       "    </tr>\n",
       "    <tr>\n",
       "      <th>3</th>\n",
       "      <td>8966e08201bffff</td>\n",
       "      <td>7</td>\n",
       "      <td>0</td>\n",
       "      <td>7</td>\n",
       "      <td>0</td>\n",
       "    </tr>\n",
       "    <tr>\n",
       "      <th>4</th>\n",
       "      <td>8966e082033ffff</td>\n",
       "      <td>1</td>\n",
       "      <td>0</td>\n",
       "      <td>1</td>\n",
       "      <td>0</td>\n",
       "    </tr>\n",
       "    <tr>\n",
       "      <th>...</th>\n",
       "      <td>...</td>\n",
       "      <td>...</td>\n",
       "      <td>...</td>\n",
       "      <td>...</td>\n",
       "      <td>...</td>\n",
       "    </tr>\n",
       "    <tr>\n",
       "      <th>2430</th>\n",
       "      <td>8966e466ea7ffff</td>\n",
       "      <td>12</td>\n",
       "      <td>6</td>\n",
       "      <td>13</td>\n",
       "      <td>1</td>\n",
       "    </tr>\n",
       "    <tr>\n",
       "      <th>2431</th>\n",
       "      <td>8966e466eafffff</td>\n",
       "      <td>4</td>\n",
       "      <td>3</td>\n",
       "      <td>12</td>\n",
       "      <td>1</td>\n",
       "    </tr>\n",
       "    <tr>\n",
       "      <th>2432</th>\n",
       "      <td>8966e466eb3ffff</td>\n",
       "      <td>4</td>\n",
       "      <td>1</td>\n",
       "      <td>10</td>\n",
       "      <td>0</td>\n",
       "    </tr>\n",
       "    <tr>\n",
       "      <th>2433</th>\n",
       "      <td>8966e466ecbffff</td>\n",
       "      <td>5</td>\n",
       "      <td>11</td>\n",
       "      <td>10</td>\n",
       "      <td>0</td>\n",
       "    </tr>\n",
       "    <tr>\n",
       "      <th>2434</th>\n",
       "      <td>8966e466edbffff</td>\n",
       "      <td>1</td>\n",
       "      <td>0</td>\n",
       "      <td>2</td>\n",
       "      <td>0</td>\n",
       "    </tr>\n",
       "  </tbody>\n",
       "</table>\n",
       "<p>2435 rows × 5 columns</p>\n",
       "</div>"
      ],
      "text/plain": [
       "                  hex  peaton  bicicleta  mujer  movilidad_cuidado\n",
       "0     8966e082003ffff      10          0     12                  0\n",
       "1     8966e082007ffff      20          0     23                  1\n",
       "2     8966e082013ffff       9          0      9                  1\n",
       "3     8966e08201bffff       7          0      7                  0\n",
       "4     8966e082033ffff       1          0      1                  0\n",
       "...               ...     ...        ...    ...                ...\n",
       "2430  8966e466ea7ffff      12          6     13                  1\n",
       "2431  8966e466eafffff       4          3     12                  1\n",
       "2432  8966e466eb3ffff       4          1     10                  0\n",
       "2433  8966e466ecbffff       5         11     10                  0\n",
       "2434  8966e466edbffff       1          0      2                  0\n",
       "\n",
       "[2435 rows x 5 columns]"
      ]
     },
     "execution_count": 26,
     "metadata": {},
     "output_type": "execute_result"
    }
   ],
   "source": [
    "temp = temp.groupby(\"hex\").sum().reset_index()\n",
    "temp"
   ]
  },
  {
   "attachments": {},
   "cell_type": "markdown",
   "metadata": {},
   "source": [
    "## Unir accesibilidad con datos de encuesta de movilidad"
   ]
  },
  {
   "cell_type": "code",
   "execution_count": 28,
   "metadata": {},
   "outputs": [],
   "source": [
    "accessibility_df = accessibility_df.merge(\n",
    "    temp,\n",
    "    on='hex',\n",
    "    how='left'\n",
    ")"
   ]
  },
  {
   "cell_type": "code",
   "execution_count": 29,
   "metadata": {},
   "outputs": [
    {
     "data": {
      "text/html": [
       "<div>\n",
       "<style scoped>\n",
       "    .dataframe tbody tr th:only-of-type {\n",
       "        vertical-align: middle;\n",
       "    }\n",
       "\n",
       "    .dataframe tbody tr th {\n",
       "        vertical-align: top;\n",
       "    }\n",
       "\n",
       "    .dataframe thead th {\n",
       "        text-align: right;\n",
       "    }\n",
       "</style>\n",
       "<table border=\"1\" class=\"dataframe\">\n",
       "  <thead>\n",
       "    <tr style=\"text-align: right;\">\n",
       "      <th></th>\n",
       "      <th>hex</th>\n",
       "      <th>Poblacion</th>\n",
       "      <th>PCA</th>\n",
       "      <th>area_m2</th>\n",
       "      <th>Densidad_ha</th>\n",
       "      <th>NSE_5</th>\n",
       "      <th>NSE_3</th>\n",
       "      <th>hex_o</th>\n",
       "      <th>AllTrips_AvgTravelTimeAll_tpubl</th>\n",
       "      <th>AllTrips_AvgTravelTimeAll_tpubl_w</th>\n",
       "      <th>...</th>\n",
       "      <th>Verde_m2habitante800m</th>\n",
       "      <th>Verde_m2habitante1500m</th>\n",
       "      <th>Verde_m2habitante2000m</th>\n",
       "      <th>city</th>\n",
       "      <th>IndiAcce_1</th>\n",
       "      <th>geometry</th>\n",
       "      <th>peaton</th>\n",
       "      <th>bicicleta</th>\n",
       "      <th>mujer</th>\n",
       "      <th>movilidad_cuidado</th>\n",
       "    </tr>\n",
       "  </thead>\n",
       "  <tbody>\n",
       "    <tr>\n",
       "      <th>0</th>\n",
       "      <td>8966e4289b7ffff</td>\n",
       "      <td>1477.0</td>\n",
       "      <td>-3.888163</td>\n",
       "      <td>109517.0</td>\n",
       "      <td>134.9</td>\n",
       "      <td>1 - Alto</td>\n",
       "      <td>1 - Alto</td>\n",
       "      <td>8866e4289bfffff</td>\n",
       "      <td>54.35</td>\n",
       "      <td>44.09</td>\n",
       "      <td>...</td>\n",
       "      <td>3.530855</td>\n",
       "      <td>3.767326</td>\n",
       "      <td>3.897198</td>\n",
       "      <td>Bogotá</td>\n",
       "      <td>1. Alta</td>\n",
       "      <td>POLYGON ((-74.04566 4.69746, -74.04673 4.69601...</td>\n",
       "      <td>5.0</td>\n",
       "      <td>1.0</td>\n",
       "      <td>10.0</td>\n",
       "      <td>0.0</td>\n",
       "    </tr>\n",
       "    <tr>\n",
       "      <th>1</th>\n",
       "      <td>8966e4289b3ffff</td>\n",
       "      <td>1505.0</td>\n",
       "      <td>-3.770667</td>\n",
       "      <td>109517.0</td>\n",
       "      <td>137.4</td>\n",
       "      <td>1 - Alto</td>\n",
       "      <td>1 - Alto</td>\n",
       "      <td>8866e4289bfffff</td>\n",
       "      <td>54.35</td>\n",
       "      <td>44.09</td>\n",
       "      <td>...</td>\n",
       "      <td>3.530855</td>\n",
       "      <td>3.767326</td>\n",
       "      <td>3.897198</td>\n",
       "      <td>Bogotá</td>\n",
       "      <td>1. Alta</td>\n",
       "      <td>POLYGON ((-74.04832 4.69940, -74.04940 4.69794...</td>\n",
       "      <td>NaN</td>\n",
       "      <td>NaN</td>\n",
       "      <td>NaN</td>\n",
       "      <td>NaN</td>\n",
       "    </tr>\n",
       "    <tr>\n",
       "      <th>2</th>\n",
       "      <td>8966e4289a7ffff</td>\n",
       "      <td>1364.0</td>\n",
       "      <td>-3.760292</td>\n",
       "      <td>109522.0</td>\n",
       "      <td>124.5</td>\n",
       "      <td>1 - Alto</td>\n",
       "      <td>1 - Alto</td>\n",
       "      <td>8866e4289bfffff</td>\n",
       "      <td>54.35</td>\n",
       "      <td>44.09</td>\n",
       "      <td>...</td>\n",
       "      <td>3.530855</td>\n",
       "      <td>3.767326</td>\n",
       "      <td>3.897198</td>\n",
       "      <td>Bogotá</td>\n",
       "      <td>1. Alta</td>\n",
       "      <td>POLYGON ((-74.04594 4.69431, -74.04701 4.69285...</td>\n",
       "      <td>2.0</td>\n",
       "      <td>1.0</td>\n",
       "      <td>5.0</td>\n",
       "      <td>0.0</td>\n",
       "    </tr>\n",
       "    <tr>\n",
       "      <th>3</th>\n",
       "      <td>8966e4289a3ffff</td>\n",
       "      <td>1380.0</td>\n",
       "      <td>-3.755640</td>\n",
       "      <td>109522.0</td>\n",
       "      <td>126.0</td>\n",
       "      <td>1 - Alto</td>\n",
       "      <td>1 - Alto</td>\n",
       "      <td>8866e4289bfffff</td>\n",
       "      <td>54.35</td>\n",
       "      <td>44.09</td>\n",
       "      <td>...</td>\n",
       "      <td>3.530855</td>\n",
       "      <td>3.767326</td>\n",
       "      <td>3.897198</td>\n",
       "      <td>Bogotá</td>\n",
       "      <td>1. Alta</td>\n",
       "      <td>POLYGON ((-74.04860 4.69624, -74.04967 4.69479...</td>\n",
       "      <td>3.0</td>\n",
       "      <td>0.0</td>\n",
       "      <td>3.0</td>\n",
       "      <td>0.0</td>\n",
       "    </tr>\n",
       "    <tr>\n",
       "      <th>4</th>\n",
       "      <td>8966e4289bbffff</td>\n",
       "      <td>1232.0</td>\n",
       "      <td>-3.705080</td>\n",
       "      <td>109522.0</td>\n",
       "      <td>112.5</td>\n",
       "      <td>1 - Alto</td>\n",
       "      <td>1 - Alto</td>\n",
       "      <td>8866e4289bfffff</td>\n",
       "      <td>54.35</td>\n",
       "      <td>44.09</td>\n",
       "      <td>...</td>\n",
       "      <td>3.530855</td>\n",
       "      <td>3.767326</td>\n",
       "      <td>3.897198</td>\n",
       "      <td>Bogotá</td>\n",
       "      <td>1. Alta</td>\n",
       "      <td>POLYGON ((-74.05127 4.69818, -74.05234 4.69672...</td>\n",
       "      <td>0.0</td>\n",
       "      <td>0.0</td>\n",
       "      <td>0.0</td>\n",
       "      <td>0.0</td>\n",
       "    </tr>\n",
       "  </tbody>\n",
       "</table>\n",
       "<p>5 rows × 76 columns</p>\n",
       "</div>"
      ],
      "text/plain": [
       "               hex  Poblacion       PCA   area_m2  Densidad_ha     NSE_5  \\\n",
       "0  8966e4289b7ffff     1477.0 -3.888163  109517.0        134.9  1 - Alto   \n",
       "1  8966e4289b3ffff     1505.0 -3.770667  109517.0        137.4  1 - Alto   \n",
       "2  8966e4289a7ffff     1364.0 -3.760292  109522.0        124.5  1 - Alto   \n",
       "3  8966e4289a3ffff     1380.0 -3.755640  109522.0        126.0  1 - Alto   \n",
       "4  8966e4289bbffff     1232.0 -3.705080  109522.0        112.5  1 - Alto   \n",
       "\n",
       "      NSE_3            hex_o  AllTrips_AvgTravelTimeAll_tpubl  \\\n",
       "0  1 - Alto  8866e4289bfffff                            54.35   \n",
       "1  1 - Alto  8866e4289bfffff                            54.35   \n",
       "2  1 - Alto  8866e4289bfffff                            54.35   \n",
       "3  1 - Alto  8866e4289bfffff                            54.35   \n",
       "4  1 - Alto  8866e4289bfffff                            54.35   \n",
       "\n",
       "   AllTrips_AvgTravelTimeAll_tpubl_w  ...  Verde_m2habitante800m  \\\n",
       "0                              44.09  ...               3.530855   \n",
       "1                              44.09  ...               3.530855   \n",
       "2                              44.09  ...               3.530855   \n",
       "3                              44.09  ...               3.530855   \n",
       "4                              44.09  ...               3.530855   \n",
       "\n",
       "   Verde_m2habitante1500m  Verde_m2habitante2000m    city  IndiAcce_1  \\\n",
       "0                3.767326                3.897198  Bogotá     1. Alta   \n",
       "1                3.767326                3.897198  Bogotá     1. Alta   \n",
       "2                3.767326                3.897198  Bogotá     1. Alta   \n",
       "3                3.767326                3.897198  Bogotá     1. Alta   \n",
       "4                3.767326                3.897198  Bogotá     1. Alta   \n",
       "\n",
       "                                            geometry  peaton  bicicleta  \\\n",
       "0  POLYGON ((-74.04566 4.69746, -74.04673 4.69601...     5.0        1.0   \n",
       "1  POLYGON ((-74.04832 4.69940, -74.04940 4.69794...     NaN        NaN   \n",
       "2  POLYGON ((-74.04594 4.69431, -74.04701 4.69285...     2.0        1.0   \n",
       "3  POLYGON ((-74.04860 4.69624, -74.04967 4.69479...     3.0        0.0   \n",
       "4  POLYGON ((-74.05127 4.69818, -74.05234 4.69672...     0.0        0.0   \n",
       "\n",
       "   mujer  movilidad_cuidado  \n",
       "0   10.0                0.0  \n",
       "1    NaN                NaN  \n",
       "2    5.0                0.0  \n",
       "3    3.0                0.0  \n",
       "4    0.0                0.0  \n",
       "\n",
       "[5 rows x 76 columns]"
      ]
     },
     "execution_count": 29,
     "metadata": {},
     "output_type": "execute_result"
    }
   ],
   "source": [
    "accessibility_df.head()"
   ]
  },
  {
   "cell_type": "code",
   "execution_count": 31,
   "metadata": {},
   "outputs": [],
   "source": [
    "accessibility_df.to_parquet(parent_dir / \"temp_acc_.parquet\")"
   ]
  },
  {
   "cell_type": "code",
   "execution_count": 36,
   "metadata": {},
   "outputs": [
    {
     "data": {
      "text/plain": [
       "1744.0"
      ]
     },
     "execution_count": 36,
     "metadata": {},
     "output_type": "execute_result"
    }
   ],
   "source": [
    "accessibility_df.movilidad_cuidado.sum()"
   ]
  },
  {
   "cell_type": "code",
   "execution_count": 41,
   "metadata": {},
   "outputs": [
    {
     "name": "stdout",
     "output_type": "stream",
     "text": [
      "AllTrips_AvgTravelTimeAll_tpubl\n",
      "AllTrips_AvgTravelTimeAll_tpubl_w\n",
      "AllTrips_AvgTravelTimeAll_car\n",
      "AllTrips_AvgTravelTimeAll_car_w\n",
      "AllTrips_TravelTimeDowntown_tpubl\n",
      "AllTrips_TravelTimeDowntown_car\n",
      "AllTrips_TravelTimeDowntown_Difference\n",
      "EducInicPriv_AvgTime_bus\n",
      "EducInicPriv_AvgTime_walk\n",
      "EducInicPubl_AvgTime_bus\n",
      "EducInicPubl_AvgTime_walk\n",
      "EducPrimPriv_AvgTime_bus\n",
      "EducPrimPriv_AvgTime_walk\n",
      "EducPrimPubl_AvgTime_bus\n",
      "EducPrimPubl_AvgTime_walk\n",
      "EducSecuPriv_AvgTime_bus\n",
      "EducSecuPriv_AvgTime_walk\n",
      "EducSecuPubl_AvgTime_bus\n",
      "EducSecuPubl_AvgTime_walk\n",
      "SaluAtenPrim_AvgTime_bus\n",
      "SaluAtenPrim_AvgTime_walk\n",
      "SaluHosp_AvgTime_bus\n",
      "SaluHosp_AvgTime_walk\n"
     ]
    }
   ],
   "source": [
    "for c in accessibility_df.columns:\n",
    "    if \"Time\" in c:\n",
    "        print(c)\n"
   ]
  },
  {
   "cell_type": "code",
   "execution_count": 46,
   "metadata": {},
   "outputs": [
    {
     "data": {
      "text/plain": [
       "count      9142\n",
       "unique        2\n",
       "top       False\n",
       "freq       6281\n",
       "dtype: object"
      ]
     },
     "execution_count": 46,
     "metadata": {},
     "output_type": "execute_result"
    }
   ],
   "source": [
    "(accessibility_df.EducInicPubl_AvgTime_bus < accessibility_df.EducInicPubl_AvgTime_walk).describe()"
   ]
  },
  {
   "cell_type": "code",
   "execution_count": 49,
   "metadata": {},
   "outputs": [
    {
     "data": {
      "text/plain": [
       "Index(['hex', 'Poblacion', 'PCA', 'area_m2', 'Densidad_ha', 'NSE_5', 'NSE_3',\n",
       "       'hex_o', 'AllTrips_AvgTravelTimeAll_tpubl',\n",
       "       'AllTrips_AvgTravelTimeAll_tpubl_w', 'AllTrips_AvgTransfersAll_tpubl',\n",
       "       'AllTrips_AvgTransfersAll_tpubl_w', 'AllTrips_AvgTravelTimeAll_car',\n",
       "       'AllTrips_AvgTravelTimeAll_car_w', 'AllTrips_TravelTimeDowntown_tpubl',\n",
       "       'AllTrips_AvgTransfersDowntown_tpubl',\n",
       "       'AllTrips_TravelTimeDowntown_car', 'AllTrips_DistanceDowntown_car',\n",
       "       'AllTrips_TravelTimeDowntown_Difference', 'rate_tp_car_all',\n",
       "       'rate_tp_car_Downtown', 'AllTrips_walk_to_bus_origin_meters_w',\n",
       "       'AllTrips_walk_to_bus_total_meters_w', 'EsVe_Area_verdes_ha_2km',\n",
       "       'EsVe_Area_verdes_ha_800mts', 'EducInicPriv_QtAvgEst2km',\n",
       "       'EducInicPriv_QtAvgEst800mts', 'EducInicPriv_QtAvgEst1500mts',\n",
       "       'EducInicPriv_AvgTime_bus', 'EducInicPriv_AvgTime_walk',\n",
       "       'EducInicPubl_QtAvgEst2km', 'EducInicPubl_QtAvgEst800mts',\n",
       "       'EducInicPubl_QtAvgEst1500mts', 'EducInicPubl_AvgTime_bus',\n",
       "       'EducInicPubl_AvgTime_walk', 'EducPrimPriv_QtAvgEst2km',\n",
       "       'EducPrimPriv_QtAvgEst800mts', 'EducPrimPriv_QtAvgEst1500mts',\n",
       "       'EducPrimPriv_AvgTime_bus', 'EducPrimPriv_AvgTime_walk',\n",
       "       'EducPrimPubl_QtAvgEst2km', 'EducPrimPubl_QtAvgEst800mts',\n",
       "       'EducPrimPubl_QtAvgEst1500mts', 'EducPrimPubl_AvgTime_bus',\n",
       "       'EducPrimPubl_AvgTime_walk', 'EducSecuPriv_QtAvgEst2km',\n",
       "       'EducSecuPriv_QtAvgEst800mts', 'EducSecuPriv_QtAvgEst1500mts',\n",
       "       'EducSecuPriv_AvgTime_bus', 'EducSecuPriv_AvgTime_walk',\n",
       "       'EducSecuPubl_QtAvgEst2km', 'EducSecuPubl_QtAvgEst800mts',\n",
       "       'EducSecuPubl_QtAvgEst1500mts', 'EducSecuPubl_AvgTime_bus',\n",
       "       'EducSecuPubl_AvgTime_walk', 'SaluAtenPrim_QtAvgEst2km',\n",
       "       'SaluAtenPrim_QtAvgEst800mts', 'SaluAtenPrim_QtAvgEst1500mts',\n",
       "       'SaluAtenPrim_AvgTime_bus', 'SaluAtenPrim_AvgTime_walk',\n",
       "       'SaluHosp_QtAvgEst2km', 'SaluHosp_QtAvgEst800mts',\n",
       "       'SaluHosp_QtAvgEst1500mts', 'SaluHosp_AvgTime_bus',\n",
       "       'SaluHosp_AvgTime_walk', 'IndiAcce', 'Verde_m2habitante800m',\n",
       "       'Verde_m2habitante1500m', 'Verde_m2habitante2000m', 'city',\n",
       "       'IndiAcce_1', 'geometry', 'peaton', 'bicicleta', 'mujer',\n",
       "       'movilidad_cuidado'],\n",
       "      dtype='object')"
      ]
     },
     "execution_count": 49,
     "metadata": {},
     "output_type": "execute_result"
    }
   ],
   "source": [
    "accessibility_df.columns"
   ]
  },
  {
   "cell_type": "code",
   "execution_count": null,
   "metadata": {},
   "outputs": [],
   "source": []
  },
  {
   "cell_type": "code",
   "execution_count": null,
   "metadata": {},
   "outputs": [],
   "source": []
  },
  {
   "cell_type": "code",
   "execution_count": null,
   "metadata": {},
   "outputs": [],
   "source": []
  },
  {
   "cell_type": "code",
   "execution_count": null,
   "metadata": {},
   "outputs": [],
   "source": []
  },
  {
   "cell_type": "code",
   "execution_count": null,
   "metadata": {},
   "outputs": [],
   "source": []
  },
  {
   "cell_type": "code",
   "execution_count": null,
   "metadata": {},
   "outputs": [],
   "source": []
  },
  {
   "cell_type": "code",
   "execution_count": null,
   "metadata": {},
   "outputs": [],
   "source": [
    "bta_encuesta_personas = bta_encuesta_personas.merge(\n",
    "    bta_encuesta_hogares[['Id_Hogar', 'Latitud', 'Longitud']],\n",
    "    left_on='id_hogar',\n",
    "    right_on='Id_Hogar',\n",
    "    how='left'\n",
    ")"
   ]
  },
  {
   "cell_type": "code",
   "execution_count": null,
   "metadata": {},
   "outputs": [],
   "source": [
    "bta_encuesta_personas.shape"
   ]
  },
  {
   "cell_type": "code",
   "execution_count": null,
   "metadata": {},
   "outputs": [],
   "source": [
    "def f(x):\n",
    "    \"\"\"Transforms lat and long coordinates to Point object.\"\"\"\n",
    "    try:\n",
    "        longitud = float(str(x[\"Longitud\"]).replace(\",\", \".\"))\n",
    "        latitud = float(str(x[\"Latitud\"]).replace(\",\", \".\"))\n",
    "    except:\n",
    "        print(longitud)\n",
    "    point = Point(longitud, latitud)\n",
    "    return point\n",
    "bta_encuesta_personas[\"geometry\"] = bta_encuesta_personas.apply(f, axis=1)"
   ]
  },
  {
   "cell_type": "code",
   "execution_count": null,
   "metadata": {},
   "outputs": [],
   "source": [
    "bta_encuesta_personas = gpd.GeoDataFrame(bta_encuesta_personas, geometry=\"geometry\")"
   ]
  },
  {
   "cell_type": "code",
   "execution_count": null,
   "metadata": {},
   "outputs": [],
   "source": [
    "bta_encuesta_personas.head()"
   ]
  },
  {
   "attachments": {},
   "cell_type": "markdown",
   "metadata": {},
   "source": [
    "## Accesibilidad"
   ]
  },
  {
   "cell_type": "code",
   "execution_count": null,
   "metadata": {},
   "outputs": [],
   "source": [
    "accessibility_df, accessibility_geo = get_dataframe_from_sqlite_db(\n",
    "    table_name='Accessibility', conn=conn)\n",
    "accessibility_geo = gpd.GeoDataFrame.from_features(accessibility_geo['features'])\n",
    "accessibility_df['geometry'] = accessibility_geo.geometry\n",
    "accessibility_df = gpd.GeoDataFrame(accessibility_df, geometry='geometry')"
   ]
  },
  {
   "attachments": {},
   "cell_type": "markdown",
   "metadata": {},
   "source": [
    "## Merge movilidad and accessibility"
   ]
  },
  {
   "cell_type": "code",
   "execution_count": null,
   "metadata": {},
   "outputs": [],
   "source": [
    "temp = gpd.sjoin(bta_encuesta_personas, accessibility_df[['geometry', 'hex']], how='left', op='within').reset_index(drop=True)\n"
   ]
  },
  {
   "cell_type": "code",
   "execution_count": null,
   "metadata": {},
   "outputs": [],
   "source": [
    "temp.head()"
   ]
  },
  {
   "cell_type": "code",
   "execution_count": null,
   "metadata": {},
   "outputs": [],
   "source": [
    "temp.shape"
   ]
  },
  {
   "cell_type": "code",
   "execution_count": null,
   "metadata": {},
   "outputs": [],
   "source": [
    "temp.hex.isnull().sum()"
   ]
  },
  {
   "cell_type": "code",
   "execution_count": null,
   "metadata": {},
   "outputs": [],
   "source": [
    "temp.dropna(subset=['hex'], inplace=True)"
   ]
  },
  {
   "attachments": {},
   "cell_type": "markdown",
   "metadata": {},
   "source": [
    "## Variables que caracterizan la dificultad de medios de transporte\n",
    "\n",
    "* p9_id_dificultad_medios_transporte_1\t(Dificultades para utilizar medios de transporte)\n",
    "* p9_id_dificultad_medios_transporte_2\t(Dificultad para usar automóvil)\n",
    "* p9_id_dificultad_medios_transporte_3\t(Dificultad para usar motocicleta)\n",
    "* p9_id_dificultad_medios_transporte_4\t(Dificultad para usar bus/buseta/microbús)\n",
    "* p9_id_dificultad_medios_transporte_5\t(Dificultad para usar TransMilenio)\n",
    "* p9_id_dificultad_medios_transporte_6\t(Dificultad para usar TransMiCable)\n",
    "* p9_id_dificultad_medios_transporte_7\t(Dificultad para usar Sitp)\n",
    "* p9_id_dificultad_medios_transporte_8\t(Dificultad para usar taxi)\n",
    "* p9_id_dificultad_medios_transporte_9\t(Dificultad para usar campero/jeep)\n",
    "* p9_id_dificultad_medios_transporte_10\t(Dificultad para usar bus escalera/chiva)\n",
    "* p9_id_dificultad_medios_transporte_11\t(Dificultad para usar bicicleta)\n",
    "* p9_id_dificultad_medios_transporte_12\t(Dificultad para usar bicitaxi)\n",
    "* p9_id_dificultad_medios_transporte_13\t(Dificultad para usar todos los anteriores)"
   ]
  },
  {
   "attachments": {},
   "cell_type": "markdown",
   "metadata": {},
   "source": [
    "### p9_id_dificultad_medios_transporte_2"
   ]
  },
  {
   "cell_type": "code",
   "execution_count": null,
   "metadata": {},
   "outputs": [],
   "source": [
    "p_auto = temp[['p9_id_dificultad_medios_transporte_2', 'hex']].copy()"
   ]
  },
  {
   "cell_type": "code",
   "execution_count": null,
   "metadata": {},
   "outputs": [],
   "source": [
    "p_auto.isnull().sum()"
   ]
  },
  {
   "cell_type": "code",
   "execution_count": null,
   "metadata": {},
   "outputs": [],
   "source": [
    "p_auto.p9_id_dificultad_medios_transporte_2 = p_auto.p9_id_dificultad_medios_transporte_2.fillna(0)"
   ]
  },
  {
   "cell_type": "code",
   "execution_count": null,
   "metadata": {},
   "outputs": [],
   "source": [
    "p_auto.isnull().sum()"
   ]
  },
  {
   "cell_type": "code",
   "execution_count": null,
   "metadata": {},
   "outputs": [],
   "source": [
    "p_auto = p_auto.groupby('hex').sum()"
   ]
  },
  {
   "cell_type": "code",
   "execution_count": null,
   "metadata": {},
   "outputs": [],
   "source": [
    "p_auto.head()"
   ]
  },
  {
   "attachments": {},
   "cell_type": "markdown",
   "metadata": {},
   "source": [
    "### p9_id_dificultad_medios_transporte_11"
   ]
  },
  {
   "cell_type": "code",
   "execution_count": null,
   "metadata": {},
   "outputs": [],
   "source": [
    "p_bici = temp[['p9_id_dificultad_medios_transporte_11', 'hex']].copy()\n"
   ]
  },
  {
   "cell_type": "code",
   "execution_count": null,
   "metadata": {},
   "outputs": [],
   "source": [
    "p_bici.isnull().sum()"
   ]
  },
  {
   "cell_type": "code",
   "execution_count": null,
   "metadata": {},
   "outputs": [],
   "source": [
    "p_bici.p9_id_dificultad_medios_transporte_11 = p_bici.p9_id_dificultad_medios_transporte_11.fillna(0)"
   ]
  },
  {
   "cell_type": "code",
   "execution_count": null,
   "metadata": {},
   "outputs": [],
   "source": [
    "p_bici.isnull().sum()"
   ]
  },
  {
   "cell_type": "code",
   "execution_count": null,
   "metadata": {},
   "outputs": [],
   "source": [
    "p_bici = p_bici.groupby('hex').sum()"
   ]
  },
  {
   "cell_type": "code",
   "execution_count": null,
   "metadata": {},
   "outputs": [],
   "source": [
    "p_bici.head()"
   ]
  },
  {
   "attachments": {},
   "cell_type": "markdown",
   "metadata": {},
   "source": [
    "### p9_id_dificultad_medios_transporte_4"
   ]
  },
  {
   "cell_type": "code",
   "execution_count": null,
   "metadata": {},
   "outputs": [],
   "source": [
    "p_bus = temp[['p9_id_dificultad_medios_transporte_4', 'hex']].copy()"
   ]
  },
  {
   "cell_type": "code",
   "execution_count": null,
   "metadata": {},
   "outputs": [],
   "source": [
    "p_bus.isnull().sum()"
   ]
  },
  {
   "cell_type": "code",
   "execution_count": null,
   "metadata": {},
   "outputs": [],
   "source": [
    "p_bus.p9_id_dificultad_medios_transporte_4 = p_bus.p9_id_dificultad_medios_transporte_4.fillna(0)\n"
   ]
  },
  {
   "cell_type": "code",
   "execution_count": null,
   "metadata": {},
   "outputs": [],
   "source": [
    "p_bus.isnull().sum()"
   ]
  },
  {
   "cell_type": "code",
   "execution_count": null,
   "metadata": {},
   "outputs": [],
   "source": [
    "p_bus = p_bus.groupby('hex').sum()"
   ]
  },
  {
   "cell_type": "code",
   "execution_count": null,
   "metadata": {},
   "outputs": [],
   "source": [
    "p_bus.head()"
   ]
  },
  {
   "attachments": {},
   "cell_type": "markdown",
   "metadata": {},
   "source": [
    "### p9_id_dificultad_medios_transporte_5"
   ]
  },
  {
   "cell_type": "code",
   "execution_count": null,
   "metadata": {},
   "outputs": [],
   "source": [
    "p_transmilenio = temp[['p9_id_dificultad_medios_transporte_5', 'hex']].copy()"
   ]
  },
  {
   "cell_type": "code",
   "execution_count": null,
   "metadata": {},
   "outputs": [],
   "source": [
    "p_transmilenio.isnull().sum()"
   ]
  },
  {
   "cell_type": "code",
   "execution_count": null,
   "metadata": {},
   "outputs": [],
   "source": [
    "p_transmilenio.p9_id_dificultad_medios_transporte_5 = p_transmilenio.p9_id_dificultad_medios_transporte_5.fillna(0)"
   ]
  },
  {
   "cell_type": "code",
   "execution_count": null,
   "metadata": {},
   "outputs": [],
   "source": [
    "p_transmilenio.isnull().sum()"
   ]
  },
  {
   "cell_type": "code",
   "execution_count": null,
   "metadata": {},
   "outputs": [],
   "source": [
    "p_transmilenio = p_transmilenio.groupby('hex').sum()"
   ]
  },
  {
   "cell_type": "code",
   "execution_count": null,
   "metadata": {},
   "outputs": [],
   "source": [
    "poblacion_vulnerable_geo = pd.concat([p_bus, p_bici, p_auto, p_transmilenio], axis=1).reset_index()"
   ]
  },
  {
   "cell_type": "code",
   "execution_count": null,
   "metadata": {},
   "outputs": [],
   "source": [
    "poblacion_vulnerable_geo.head(2)"
   ]
  },
  {
   "cell_type": "code",
   "execution_count": null,
   "metadata": {},
   "outputs": [],
   "source": [
    "accessibility_df.head(2)"
   ]
  },
  {
   "cell_type": "code",
   "execution_count": null,
   "metadata": {},
   "outputs": [],
   "source": [
    "accessibility_df = accessibility_df.merge(\n",
    "    poblacion_vulnerable_geo,\n",
    "    on='hex',\n",
    "    how='left'\n",
    ")"
   ]
  },
  {
   "cell_type": "code",
   "execution_count": null,
   "metadata": {},
   "outputs": [],
   "source": [
    "accessibility_df.head(2)"
   ]
  },
  {
   "cell_type": "code",
   "execution_count": null,
   "metadata": {},
   "outputs": [],
   "source": [
    "accessibility_df.to_parquet(parent_dir / \"temp_acc_.parquet\")"
   ]
  },
  {
   "cell_type": "code",
   "execution_count": null,
   "metadata": {},
   "outputs": [],
   "source": []
  },
  {
   "cell_type": "code",
   "execution_count": null,
   "metadata": {},
   "outputs": [],
   "source": []
  },
  {
   "cell_type": "code",
   "execution_count": null,
   "metadata": {},
   "outputs": [],
   "source": []
  },
  {
   "cell_type": "code",
   "execution_count": null,
   "metadata": {},
   "outputs": [],
   "source": []
  },
  {
   "cell_type": "code",
   "execution_count": null,
   "metadata": {},
   "outputs": [],
   "source": [
    "temp.plot()"
   ]
  },
  {
   "cell_type": "code",
   "execution_count": null,
   "metadata": {},
   "outputs": [],
   "source": [
    "temp.head()"
   ]
  },
  {
   "cell_type": "code",
   "execution_count": null,
   "metadata": {},
   "outputs": [],
   "source": [
    "temp.p9_id_dificultad_medios_transporte_4.value_counts()"
   ]
  },
  {
   "cell_type": "code",
   "execution_count": null,
   "metadata": {},
   "outputs": [],
   "source": [
    "temp.p9_id_dificultad_medios_transporte_4.isnull().sum()"
   ]
  },
  {
   "cell_type": "code",
   "execution_count": null,
   "metadata": {},
   "outputs": [],
   "source": [
    "temp[temp.p9_id_dificultad_medios_transporte_5==1][['geometry']].to_parquet('p9_id_dificultad_medios_transporte_5.parquet')"
   ]
  },
  {
   "cell_type": "code",
   "execution_count": null,
   "metadata": {},
   "outputs": [],
   "source": []
  }
 ],
 "metadata": {
  "kernelspec": {
   "display_name": "env",
   "language": "python",
   "name": "python3"
  },
  "language_info": {
   "codemirror_mode": {
    "name": "ipython",
    "version": 3
   },
   "file_extension": ".py",
   "mimetype": "text/x-python",
   "name": "python",
   "nbconvert_exporter": "python",
   "pygments_lexer": "ipython3",
   "version": "3.9.6"
  },
  "orig_nbformat": 4
 },
 "nbformat": 4,
 "nbformat_minor": 2
}
