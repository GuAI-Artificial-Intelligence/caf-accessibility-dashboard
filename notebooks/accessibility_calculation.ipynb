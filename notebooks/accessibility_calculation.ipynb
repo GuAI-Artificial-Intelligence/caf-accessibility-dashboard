{
 "cells": [
  {
   "cell_type": "code",
   "execution_count": 74,
   "metadata": {},
   "outputs": [],
   "source": [
    "# python\n",
    "from pathlib import Path\n",
    "\n",
    "# accessibility\n",
    "import pyomu\n",
    "\n",
    "# data analysis\n",
    "import geopandas as gpd\n",
    "import pandas as pd"
   ]
  },
  {
   "cell_type": "code",
   "execution_count": 3,
   "metadata": {},
   "outputs": [],
   "source": [
    "current_dir = Path.cwd()\n",
    "parent_dir = current_dir.parent"
   ]
  },
  {
   "attachments": {},
   "cell_type": "markdown",
   "metadata": {},
   "source": [
    "## Ejemplo datos establecimientos Medellin"
   ]
  },
  {
   "attachments": {},
   "cell_type": "markdown",
   "metadata": {},
   "source": [
    "El siguiente conjunto de datos se toma como ejemplo para conocer el formato adecuado para reunir los datos de establecimientos. Está disponible en le repositorio de la librería pyomu: https://github.com/OMU-LATAM/Accesibilidad/tree/main/notebooks/data"
   ]
  },
  {
   "cell_type": "code",
   "execution_count": 145,
   "metadata": {},
   "outputs": [],
   "source": [
    "establecimiento_medellin = gpd.read_file(\n",
    "    parent_dir / \"data\" / \"establecimientos_medellin.geojson\"\n",
    ")"
   ]
  },
  {
   "cell_type": "code",
   "execution_count": 6,
   "metadata": {},
   "outputs": [
    {
     "data": {
      "text/html": [
       "<div>\n",
       "<style scoped>\n",
       "    .dataframe tbody tr th:only-of-type {\n",
       "        vertical-align: middle;\n",
       "    }\n",
       "\n",
       "    .dataframe tbody tr th {\n",
       "        vertical-align: top;\n",
       "    }\n",
       "\n",
       "    .dataframe thead th {\n",
       "        text-align: right;\n",
       "    }\n",
       "</style>\n",
       "<table border=\"1\" class=\"dataframe\">\n",
       "  <thead>\n",
       "    <tr style=\"text-align: right;\">\n",
       "      <th></th>\n",
       "      <th>id</th>\n",
       "      <th>hex_d</th>\n",
       "      <th>destino</th>\n",
       "      <th>nombre</th>\n",
       "      <th>tipo</th>\n",
       "      <th>oferta</th>\n",
       "      <th>geometry</th>\n",
       "    </tr>\n",
       "  </thead>\n",
       "  <tbody>\n",
       "    <tr>\n",
       "      <th>0</th>\n",
       "      <td>0</td>\n",
       "      <td>8866183403fffff</td>\n",
       "      <td>6.186777, -75.647701</td>\n",
       "      <td>INSTITUCION EDUCATIVA PRADITO</td>\n",
       "      <td>Educación Inicial</td>\n",
       "      <td></td>\n",
       "      <td>POINT (-75.64770 6.18678)</td>\n",
       "    </tr>\n",
       "    <tr>\n",
       "      <th>1</th>\n",
       "      <td>1</td>\n",
       "      <td>8866183403fffff</td>\n",
       "      <td>6.18679, -75.640682</td>\n",
       "      <td>SECCION ESCUELA LA VERDE</td>\n",
       "      <td>Educación Inicial</td>\n",
       "      <td></td>\n",
       "      <td>POINT (-75.64068 6.18679)</td>\n",
       "    </tr>\n",
       "    <tr>\n",
       "      <th>2</th>\n",
       "      <td>2</td>\n",
       "      <td>8866183407fffff</td>\n",
       "      <td>6.185226, -75.654597</td>\n",
       "      <td>SECCION ESCUELA CARLOS BETANCUR BETANCUR</td>\n",
       "      <td>Educación Inicial</td>\n",
       "      <td></td>\n",
       "      <td>POINT (-75.65460 6.18523)</td>\n",
       "    </tr>\n",
       "    <tr>\n",
       "      <th>3</th>\n",
       "      <td>3</td>\n",
       "      <td>8866183407fffff</td>\n",
       "      <td>6.186229, -75.656151</td>\n",
       "      <td>CENTRO EDUCATIVO MI LINDO CARRUSEL</td>\n",
       "      <td>Educación Inicial</td>\n",
       "      <td></td>\n",
       "      <td>POINT (-75.65615 6.18623)</td>\n",
       "    </tr>\n",
       "    <tr>\n",
       "      <th>4</th>\n",
       "      <td>4</td>\n",
       "      <td>8866183415fffff</td>\n",
       "      <td>6.181923, -75.642756</td>\n",
       "      <td>COLEGIO COOPERATIVO SAN ANTONIO DE PRADO</td>\n",
       "      <td>Educación Inicial</td>\n",
       "      <td></td>\n",
       "      <td>POINT (-75.64276 6.18192)</td>\n",
       "    </tr>\n",
       "  </tbody>\n",
       "</table>\n",
       "</div>"
      ],
      "text/plain": [
       "   id            hex_d               destino  \\\n",
       "0   0  8866183403fffff  6.186777, -75.647701   \n",
       "1   1  8866183403fffff   6.18679, -75.640682   \n",
       "2   2  8866183407fffff  6.185226, -75.654597   \n",
       "3   3  8866183407fffff  6.186229, -75.656151   \n",
       "4   4  8866183415fffff  6.181923, -75.642756   \n",
       "\n",
       "                                     nombre               tipo oferta  \\\n",
       "0             INSTITUCION EDUCATIVA PRADITO  Educación Inicial          \n",
       "1                  SECCION ESCUELA LA VERDE  Educación Inicial          \n",
       "2  SECCION ESCUELA CARLOS BETANCUR BETANCUR  Educación Inicial          \n",
       "3        CENTRO EDUCATIVO MI LINDO CARRUSEL  Educación Inicial          \n",
       "4  COLEGIO COOPERATIVO SAN ANTONIO DE PRADO  Educación Inicial          \n",
       "\n",
       "                    geometry  \n",
       "0  POINT (-75.64770 6.18678)  \n",
       "1  POINT (-75.64068 6.18679)  \n",
       "2  POINT (-75.65460 6.18523)  \n",
       "3  POINT (-75.65615 6.18623)  \n",
       "4  POINT (-75.64276 6.18192)  "
      ]
     },
     "execution_count": 6,
     "metadata": {},
     "output_type": "execute_result"
    }
   ],
   "source": [
    "establecimiento_medellin.head()"
   ]
  },
  {
   "cell_type": "code",
   "execution_count": 7,
   "metadata": {},
   "outputs": [
    {
     "data": {
      "text/plain": [
       "Educación Inicial       1260\n",
       "Educación Primaria       988\n",
       "Educación Secundaria     720\n",
       "Salud                    133\n",
       "Name: tipo, dtype: int64"
      ]
     },
     "execution_count": 7,
     "metadata": {},
     "output_type": "execute_result"
    }
   ],
   "source": [
    "establecimiento_medellin.tipo.value_counts()"
   ]
  },
  {
   "attachments": {},
   "cell_type": "markdown",
   "metadata": {},
   "source": [
    "## Datos establecimientos Cuenca"
   ]
  },
  {
   "attachments": {},
   "cell_type": "markdown",
   "metadata": {},
   "source": [
    "A continuación se realiza el procesamiento de la información de Cuenca para acomodar los datos disponibles de acuerdo al forma establecido en el ejemplo anterior."
   ]
  },
  {
   "attachments": {},
   "cell_type": "markdown",
   "metadata": {},
   "source": [
    "### Educación"
   ]
  },
  {
   "cell_type": "code",
   "execution_count": 124,
   "metadata": {},
   "outputs": [],
   "source": [
    "educacion_cuenca = gpd.read_file(\n",
    "    parent_dir / \"data\" / \"cuenca\" / \"equipamientos\" / \"EDUCACION.shp\"\n",
    ")"
   ]
  },
  {
   "cell_type": "code",
   "execution_count": 125,
   "metadata": {},
   "outputs": [
    {
     "data": {
      "text/html": [
       "<div>\n",
       "<style scoped>\n",
       "    .dataframe tbody tr th:only-of-type {\n",
       "        vertical-align: middle;\n",
       "    }\n",
       "\n",
       "    .dataframe tbody tr th {\n",
       "        vertical-align: top;\n",
       "    }\n",
       "\n",
       "    .dataframe thead th {\n",
       "        text-align: right;\n",
       "    }\n",
       "</style>\n",
       "<table border=\"1\" class=\"dataframe\">\n",
       "  <thead>\n",
       "    <tr style=\"text-align: right;\">\n",
       "      <th></th>\n",
       "      <th>nombre</th>\n",
       "      <th>CATEGORIA</th>\n",
       "      <th>AREA</th>\n",
       "      <th>TIPO</th>\n",
       "      <th>SITUACION</th>\n",
       "      <th>NORm2_alum</th>\n",
       "      <th>CAPACIDAD</th>\n",
       "      <th>JERARQUIA</th>\n",
       "      <th>ADMINISTRA</th>\n",
       "      <th>geometry</th>\n",
       "    </tr>\n",
       "  </thead>\n",
       "  <tbody>\n",
       "    <tr>\n",
       "      <th>0</th>\n",
       "      <td>FUNDACION NUESTROS NINOS</td>\n",
       "      <td>EDUCACION</td>\n",
       "      <td>813.708028</td>\n",
       "      <td>EDUCACION ESPECIAL</td>\n",
       "      <td>EXISTENTE</td>\n",
       "      <td>8.6</td>\n",
       "      <td>95.0</td>\n",
       "      <td>URBANO MENOR</td>\n",
       "      <td>PRIVADO</td>\n",
       "      <td>POLYGON Z ((717323.380 9677125.366 0.000, 7173...</td>\n",
       "    </tr>\n",
       "    <tr>\n",
       "      <th>1</th>\n",
       "      <td>INTEGRACION ANDINA</td>\n",
       "      <td>EDUCACION</td>\n",
       "      <td>993.719983</td>\n",
       "      <td>EDUCACION INICIAL</td>\n",
       "      <td>EXISTENTE</td>\n",
       "      <td>8.6</td>\n",
       "      <td>116.0</td>\n",
       "      <td>URBANO MENOR</td>\n",
       "      <td>PRIVADO</td>\n",
       "      <td>POLYGON Z ((716997.092 9677032.221 0.000, 7169...</td>\n",
       "    </tr>\n",
       "    <tr>\n",
       "      <th>2</th>\n",
       "      <td>LOS ANDES</td>\n",
       "      <td>EDUCACION</td>\n",
       "      <td>7751.733609</td>\n",
       "      <td>UNIDAD EDUCATIVA</td>\n",
       "      <td>EXISTENTE</td>\n",
       "      <td>8.6</td>\n",
       "      <td>901.0</td>\n",
       "      <td>URBANO MENOR</td>\n",
       "      <td>PRIVADO</td>\n",
       "      <td>POLYGON Z ((719667.014 9678001.220 0.000, 7196...</td>\n",
       "    </tr>\n",
       "    <tr>\n",
       "      <th>3</th>\n",
       "      <td>ESPIRITU DE SABIDURIA</td>\n",
       "      <td>EDUCACION</td>\n",
       "      <td>10470.483031</td>\n",
       "      <td>UNIDAD EDUCATIVA</td>\n",
       "      <td>EXISTENTE</td>\n",
       "      <td>8.6</td>\n",
       "      <td>1217.0</td>\n",
       "      <td>URBANO MENOR</td>\n",
       "      <td>PRIVADO</td>\n",
       "      <td>POLYGON Z ((716887.171 9678395.125 0.000, 7168...</td>\n",
       "    </tr>\n",
       "    <tr>\n",
       "      <th>4</th>\n",
       "      <td>CEBCI</td>\n",
       "      <td>EDUCACION</td>\n",
       "      <td>402.204868</td>\n",
       "      <td>EDUCACION INICIAL</td>\n",
       "      <td>EXISTENTE</td>\n",
       "      <td>8.6</td>\n",
       "      <td>47.0</td>\n",
       "      <td>URBANO MENOR</td>\n",
       "      <td>PRIVADO</td>\n",
       "      <td>POLYGON Z ((723420.900 9677712.244 0.000, 7234...</td>\n",
       "    </tr>\n",
       "  </tbody>\n",
       "</table>\n",
       "</div>"
      ],
      "text/plain": [
       "                     nombre  CATEGORIA          AREA                TIPO  \\\n",
       "0  FUNDACION NUESTROS NINOS  EDUCACION    813.708028  EDUCACION ESPECIAL   \n",
       "1        INTEGRACION ANDINA  EDUCACION    993.719983   EDUCACION INICIAL   \n",
       "2                 LOS ANDES  EDUCACION   7751.733609    UNIDAD EDUCATIVA   \n",
       "3     ESPIRITU DE SABIDURIA  EDUCACION  10470.483031    UNIDAD EDUCATIVA   \n",
       "4                     CEBCI  EDUCACION    402.204868   EDUCACION INICIAL   \n",
       "\n",
       "   SITUACION  NORm2_alum  CAPACIDAD     JERARQUIA ADMINISTRA  \\\n",
       "0  EXISTENTE         8.6       95.0  URBANO MENOR    PRIVADO   \n",
       "1  EXISTENTE         8.6      116.0  URBANO MENOR    PRIVADO   \n",
       "2  EXISTENTE         8.6      901.0  URBANO MENOR    PRIVADO   \n",
       "3  EXISTENTE         8.6     1217.0  URBANO MENOR    PRIVADO   \n",
       "4  EXISTENTE         8.6       47.0  URBANO MENOR    PRIVADO   \n",
       "\n",
       "                                            geometry  \n",
       "0  POLYGON Z ((717323.380 9677125.366 0.000, 7173...  \n",
       "1  POLYGON Z ((716997.092 9677032.221 0.000, 7169...  \n",
       "2  POLYGON Z ((719667.014 9678001.220 0.000, 7196...  \n",
       "3  POLYGON Z ((716887.171 9678395.125 0.000, 7168...  \n",
       "4  POLYGON Z ((723420.900 9677712.244 0.000, 7234...  "
      ]
     },
     "execution_count": 125,
     "metadata": {},
     "output_type": "execute_result"
    }
   ],
   "source": [
    "educacion_cuenca.head()"
   ]
  },
  {
   "cell_type": "code",
   "execution_count": 126,
   "metadata": {},
   "outputs": [
    {
     "data": {
      "text/plain": [
       "EXISTENTE    404\n",
       "RESERVA       12\n",
       "Name: SITUACION, dtype: int64"
      ]
     },
     "execution_count": 126,
     "metadata": {},
     "output_type": "execute_result"
    }
   ],
   "source": [
    "educacion_cuenca.SITUACION.value_counts()"
   ]
  },
  {
   "cell_type": "code",
   "execution_count": 127,
   "metadata": {},
   "outputs": [],
   "source": [
    "educacion_cuenca = educacion_cuenca[educacion_cuenca.SITUACION==\"EXISTENTE\"]"
   ]
  },
  {
   "cell_type": "code",
   "execution_count": 128,
   "metadata": {},
   "outputs": [
    {
     "data": {
      "text/plain": [
       "EDUCACION GENERAL BASICA    250\n",
       "UNIDAD EDUCATIVA             82\n",
       "EDUCACION INICIAL            29\n",
       "UNIVERSIDAD                  19\n",
       "BACHILLERATO                 14\n",
       "EDUCACION ESPECIAL            7\n",
       "INSTITUTO                     3\n",
       "Name: TIPO, dtype: int64"
      ]
     },
     "execution_count": 128,
     "metadata": {},
     "output_type": "execute_result"
    }
   ],
   "source": [
    "educacion_cuenca.TIPO.value_counts()    "
   ]
  },
  {
   "attachments": {},
   "cell_type": "markdown",
   "metadata": {},
   "source": [
    "Como parte del proceso de estandarización de los datos se asume que los niveles educativos disponibles en el conjunto de datos de Cuenca corresponden a los siguiente tipos de educación:\n",
    "\n",
    "\n",
    "* EDUCACION GENERAL BASICA: primaria y secundaria\n",
    "* UNIDAD EDUCATIVA: primaria y secundaria\n",
    "* EDUCACION INICIAL: educacion inicial\n",
    "* BACHILLERATO: secundaria"
   ]
  },
  {
   "cell_type": "code",
   "execution_count": 129,
   "metadata": {},
   "outputs": [
    {
     "name": "stderr",
     "output_type": "stream",
     "text": [
      "/Users/cristiantorres/opt/anaconda3/envs/env_pyomu/lib/python3.8/site-packages/pyproj/crs/crs.py:141: FutureWarning: '+init=<authority>:<code>' syntax is deprecated. '<authority>:<code>' is the preferred initialization method. When making the change, be mindful of axis order changes: https://pyproj4.github.io/pyproj/stable/gotchas.html#axis-order-changes-in-proj-6\n",
      "  in_crs_string = _prepare_from_proj_string(in_crs_string)\n",
      "/var/folders/0r/zp2mz7zj28xdnvbwvnqwf8vw0000gn/T/ipykernel_14793/3343719764.py:3: UserWarning: Geometry is in a geographic CRS. Results from 'centroid' are likely incorrect. Use 'GeoSeries.to_crs()' to re-project geometries to a projected CRS before this operation.\n",
      "\n",
      "  educacion_cuenca.geometry = educacion_cuenca.geometry.centroid\n"
     ]
    }
   ],
   "source": [
    "target_crs = {'init': 'epsg:4326'}\n",
    "educacion_cuenca = educacion_cuenca.to_crs(target_crs)\n",
    "educacion_cuenca.geometry = educacion_cuenca.geometry.centroid"
   ]
  },
  {
   "cell_type": "code",
   "execution_count": 130,
   "metadata": {},
   "outputs": [],
   "source": [
    "educacion_cuenca_gb1 = educacion_cuenca[educacion_cuenca.TIPO==\"EDUCACION GENERAL BASICA\"].copy()\n",
    "educacion_cuenca_gb2 = educacion_cuenca[educacion_cuenca.TIPO==\"EDUCACION GENERAL BASICA\"].copy()\n",
    "educacion_cuenca_ud1 = educacion_cuenca[educacion_cuenca.TIPO==\"UNIDAD EDUCATIVA\"].copy()\n",
    "educacion_cuenca_ud2 = educacion_cuenca[educacion_cuenca.TIPO==\"UNIDAD EDUCATIVA\"].copy()\n",
    "educacion_cuenca_ini = educacion_cuenca[educacion_cuenca.TIPO==\"EDUCACION INICIAL\"].copy()\n",
    "educacion_cuenca_bac = educacion_cuenca[educacion_cuenca.TIPO==\"BACHILLERATO\"].copy()"
   ]
  },
  {
   "cell_type": "code",
   "execution_count": 131,
   "metadata": {},
   "outputs": [],
   "source": [
    "educacion_cuenca_gb1[\"tipo\"] = \"Educación Primaria\"\n",
    "educacion_cuenca_gb2[\"tipo\"] = \"Educación Secundaria\"\n",
    "\n",
    "educacion_cuenca_ud1[\"tipo\"] = \"Educación Primaria\"\n",
    "educacion_cuenca_ud2[\"tipo\"] = \"Educación Secundaria\"\n",
    "\n",
    "educacion_cuenca_ini[\"tipo\"] = \"Educación Inicial\"\n",
    "\n",
    "educacion_cuenca_bac[\"tipo\"] = \"Educación Secundaria\""
   ]
  },
  {
   "cell_type": "code",
   "execution_count": 132,
   "metadata": {},
   "outputs": [],
   "source": [
    "educacion_cuenca_intermediate = pd.concat([\n",
    "    educacion_cuenca_gb1,\n",
    "    educacion_cuenca_gb2,\n",
    "    educacion_cuenca_ud1,\n",
    "    educacion_cuenca_ud2,\n",
    "    educacion_cuenca_ini,\n",
    "    educacion_cuenca_bac\n",
    "]).reset_index(drop=True)\n",
    "\n",
    "educacion_cuenca_intermediate = educacion_cuenca_intermediate[['nombre', 'ADMINISTRA', 'tipo', 'geometry']]"
   ]
  },
  {
   "cell_type": "code",
   "execution_count": 133,
   "metadata": {},
   "outputs": [
    {
     "data": {
      "text/html": [
       "<div>\n",
       "<style scoped>\n",
       "    .dataframe tbody tr th:only-of-type {\n",
       "        vertical-align: middle;\n",
       "    }\n",
       "\n",
       "    .dataframe tbody tr th {\n",
       "        vertical-align: top;\n",
       "    }\n",
       "\n",
       "    .dataframe thead th {\n",
       "        text-align: right;\n",
       "    }\n",
       "</style>\n",
       "<table border=\"1\" class=\"dataframe\">\n",
       "  <thead>\n",
       "    <tr style=\"text-align: right;\">\n",
       "      <th></th>\n",
       "      <th>nombre</th>\n",
       "      <th>ADMINISTRA</th>\n",
       "      <th>tipo</th>\n",
       "      <th>geometry</th>\n",
       "    </tr>\n",
       "  </thead>\n",
       "  <tbody>\n",
       "    <tr>\n",
       "      <th>0</th>\n",
       "      <td>AGUSTIN CUEVA TAMARIZ</td>\n",
       "      <td>PRIVADO</td>\n",
       "      <td>Educación Primaria</td>\n",
       "      <td>POINT (-78.99883 -2.91515)</td>\n",
       "    </tr>\n",
       "    <tr>\n",
       "      <th>1</th>\n",
       "      <td>CRISTO REY</td>\n",
       "      <td>PRIVADO</td>\n",
       "      <td>Educación Primaria</td>\n",
       "      <td>POINT (-79.00104 -2.88682)</td>\n",
       "    </tr>\n",
       "    <tr>\n",
       "      <th>2</th>\n",
       "      <td>CRECIENDO LIBRES</td>\n",
       "      <td>PRIVADO</td>\n",
       "      <td>Educación Primaria</td>\n",
       "      <td>POINT (-78.99676 -2.89460)</td>\n",
       "    </tr>\n",
       "    <tr>\n",
       "      <th>3</th>\n",
       "      <td>ARZOBISPO SERRANO</td>\n",
       "      <td>PRIVADO</td>\n",
       "      <td>Educación Primaria</td>\n",
       "      <td>POINT (-79.00535 -2.89696)</td>\n",
       "    </tr>\n",
       "    <tr>\n",
       "      <th>4</th>\n",
       "      <td>EL AMERICANO</td>\n",
       "      <td>PRIVADO</td>\n",
       "      <td>Educación Primaria</td>\n",
       "      <td>POINT (-79.02067 -2.88098)</td>\n",
       "    </tr>\n",
       "  </tbody>\n",
       "</table>\n",
       "</div>"
      ],
      "text/plain": [
       "                  nombre ADMINISTRA                tipo  \\\n",
       "0  AGUSTIN CUEVA TAMARIZ    PRIVADO  Educación Primaria   \n",
       "1             CRISTO REY    PRIVADO  Educación Primaria   \n",
       "2       CRECIENDO LIBRES    PRIVADO  Educación Primaria   \n",
       "3      ARZOBISPO SERRANO    PRIVADO  Educación Primaria   \n",
       "4           EL AMERICANO    PRIVADO  Educación Primaria   \n",
       "\n",
       "                     geometry  \n",
       "0  POINT (-78.99883 -2.91515)  \n",
       "1  POINT (-79.00104 -2.88682)  \n",
       "2  POINT (-78.99676 -2.89460)  \n",
       "3  POINT (-79.00535 -2.89696)  \n",
       "4  POINT (-79.02067 -2.88098)  "
      ]
     },
     "execution_count": 133,
     "metadata": {},
     "output_type": "execute_result"
    }
   ],
   "source": [
    "educacion_cuenca_intermediate.head()"
   ]
  },
  {
   "cell_type": "code",
   "execution_count": 134,
   "metadata": {},
   "outputs": [
    {
     "data": {
      "text/html": [
       "<div>\n",
       "<style scoped>\n",
       "    .dataframe tbody tr th:only-of-type {\n",
       "        vertical-align: middle;\n",
       "    }\n",
       "\n",
       "    .dataframe tbody tr th {\n",
       "        vertical-align: top;\n",
       "    }\n",
       "\n",
       "    .dataframe thead th {\n",
       "        text-align: right;\n",
       "    }\n",
       "</style>\n",
       "<table border=\"1\" class=\"dataframe\">\n",
       "  <thead>\n",
       "    <tr style=\"text-align: right;\">\n",
       "      <th></th>\n",
       "      <th>nombre</th>\n",
       "      <th>ADMINISTRA</th>\n",
       "      <th>tipo</th>\n",
       "      <th>geometry</th>\n",
       "    </tr>\n",
       "  </thead>\n",
       "  <tbody>\n",
       "    <tr>\n",
       "      <th>0</th>\n",
       "      <td>AGUSTIN CUEVA TAMARIZ</td>\n",
       "      <td>PRIVADO</td>\n",
       "      <td>Educación Primaria</td>\n",
       "      <td>POINT (-78.99883 -2.91515)</td>\n",
       "    </tr>\n",
       "    <tr>\n",
       "      <th>1</th>\n",
       "      <td>CRISTO REY</td>\n",
       "      <td>PRIVADO</td>\n",
       "      <td>Educación Primaria</td>\n",
       "      <td>POINT (-79.00104 -2.88682)</td>\n",
       "    </tr>\n",
       "    <tr>\n",
       "      <th>2</th>\n",
       "      <td>CRECIENDO LIBRES</td>\n",
       "      <td>PRIVADO</td>\n",
       "      <td>Educación Primaria</td>\n",
       "      <td>POINT (-78.99676 -2.89460)</td>\n",
       "    </tr>\n",
       "    <tr>\n",
       "      <th>3</th>\n",
       "      <td>ARZOBISPO SERRANO</td>\n",
       "      <td>PRIVADO</td>\n",
       "      <td>Educación Primaria</td>\n",
       "      <td>POINT (-79.00535 -2.89696)</td>\n",
       "    </tr>\n",
       "    <tr>\n",
       "      <th>4</th>\n",
       "      <td>EL AMERICANO</td>\n",
       "      <td>PRIVADO</td>\n",
       "      <td>Educación Primaria</td>\n",
       "      <td>POINT (-79.02067 -2.88098)</td>\n",
       "    </tr>\n",
       "  </tbody>\n",
       "</table>\n",
       "</div>"
      ],
      "text/plain": [
       "                  nombre ADMINISTRA                tipo  \\\n",
       "0  AGUSTIN CUEVA TAMARIZ    PRIVADO  Educación Primaria   \n",
       "1             CRISTO REY    PRIVADO  Educación Primaria   \n",
       "2       CRECIENDO LIBRES    PRIVADO  Educación Primaria   \n",
       "3      ARZOBISPO SERRANO    PRIVADO  Educación Primaria   \n",
       "4           EL AMERICANO    PRIVADO  Educación Primaria   \n",
       "\n",
       "                     geometry  \n",
       "0  POINT (-78.99883 -2.91515)  \n",
       "1  POINT (-79.00104 -2.88682)  \n",
       "2  POINT (-78.99676 -2.89460)  \n",
       "3  POINT (-79.00535 -2.89696)  \n",
       "4  POINT (-79.02067 -2.88098)  "
      ]
     },
     "execution_count": 134,
     "metadata": {},
     "output_type": "execute_result"
    }
   ],
   "source": [
    "educacion_cuenca_intermediate.head()"
   ]
  },
  {
   "cell_type": "code",
   "execution_count": 135,
   "metadata": {},
   "outputs": [
    {
     "data": {
      "text/plain": [
       "              1484\n",
       "Pública        917\n",
       "Privada        567\n",
       "Hospitales     133\n",
       "Name: oferta, dtype: int64"
      ]
     },
     "execution_count": 135,
     "metadata": {},
     "output_type": "execute_result"
    }
   ],
   "source": [
    "establecimiento_medellin.oferta.value_counts()"
   ]
  },
  {
   "cell_type": "code",
   "execution_count": 136,
   "metadata": {},
   "outputs": [],
   "source": [
    "def f(x):\n",
    "    if x == \"PRIVADO\":\n",
    "        return \"Privado\"\n",
    "    elif x == \"PUBLICO\":\n",
    "        return \"Público\"\n",
    "    else:\n",
    "        return \"Sin información\"\n",
    "educacion_cuenca_intermediate[\"oferta\"] = educacion_cuenca_intermediate.ADMINISTRA.apply(f)"
   ]
  },
  {
   "cell_type": "code",
   "execution_count": 137,
   "metadata": {},
   "outputs": [],
   "source": [
    "educacion_cuenca_intermediate.drop(\"ADMINISTRA\", axis=1, inplace=True)"
   ]
  },
  {
   "cell_type": "code",
   "execution_count": 138,
   "metadata": {},
   "outputs": [],
   "source": [
    "educacion_cuenca_intermediate[\"id\"] = educacion_cuenca_intermediate.index"
   ]
  },
  {
   "cell_type": "code",
   "execution_count": 139,
   "metadata": {},
   "outputs": [
    {
     "data": {
      "text/html": [
       "<div>\n",
       "<style scoped>\n",
       "    .dataframe tbody tr th:only-of-type {\n",
       "        vertical-align: middle;\n",
       "    }\n",
       "\n",
       "    .dataframe tbody tr th {\n",
       "        vertical-align: top;\n",
       "    }\n",
       "\n",
       "    .dataframe thead th {\n",
       "        text-align: right;\n",
       "    }\n",
       "</style>\n",
       "<table border=\"1\" class=\"dataframe\">\n",
       "  <thead>\n",
       "    <tr style=\"text-align: right;\">\n",
       "      <th></th>\n",
       "      <th>nombre</th>\n",
       "      <th>tipo</th>\n",
       "      <th>geometry</th>\n",
       "      <th>oferta</th>\n",
       "      <th>id</th>\n",
       "    </tr>\n",
       "  </thead>\n",
       "  <tbody>\n",
       "    <tr>\n",
       "      <th>0</th>\n",
       "      <td>AGUSTIN CUEVA TAMARIZ</td>\n",
       "      <td>Educación Primaria</td>\n",
       "      <td>POINT (-78.99883 -2.91515)</td>\n",
       "      <td>Privado</td>\n",
       "      <td>0</td>\n",
       "    </tr>\n",
       "    <tr>\n",
       "      <th>1</th>\n",
       "      <td>CRISTO REY</td>\n",
       "      <td>Educación Primaria</td>\n",
       "      <td>POINT (-79.00104 -2.88682)</td>\n",
       "      <td>Privado</td>\n",
       "      <td>1</td>\n",
       "    </tr>\n",
       "    <tr>\n",
       "      <th>2</th>\n",
       "      <td>CRECIENDO LIBRES</td>\n",
       "      <td>Educación Primaria</td>\n",
       "      <td>POINT (-78.99676 -2.89460)</td>\n",
       "      <td>Privado</td>\n",
       "      <td>2</td>\n",
       "    </tr>\n",
       "    <tr>\n",
       "      <th>3</th>\n",
       "      <td>ARZOBISPO SERRANO</td>\n",
       "      <td>Educación Primaria</td>\n",
       "      <td>POINT (-79.00535 -2.89696)</td>\n",
       "      <td>Privado</td>\n",
       "      <td>3</td>\n",
       "    </tr>\n",
       "    <tr>\n",
       "      <th>4</th>\n",
       "      <td>EL AMERICANO</td>\n",
       "      <td>Educación Primaria</td>\n",
       "      <td>POINT (-79.02067 -2.88098)</td>\n",
       "      <td>Privado</td>\n",
       "      <td>4</td>\n",
       "    </tr>\n",
       "  </tbody>\n",
       "</table>\n",
       "</div>"
      ],
      "text/plain": [
       "                  nombre                tipo                    geometry  \\\n",
       "0  AGUSTIN CUEVA TAMARIZ  Educación Primaria  POINT (-78.99883 -2.91515)   \n",
       "1             CRISTO REY  Educación Primaria  POINT (-79.00104 -2.88682)   \n",
       "2       CRECIENDO LIBRES  Educación Primaria  POINT (-78.99676 -2.89460)   \n",
       "3      ARZOBISPO SERRANO  Educación Primaria  POINT (-79.00535 -2.89696)   \n",
       "4           EL AMERICANO  Educación Primaria  POINT (-79.02067 -2.88098)   \n",
       "\n",
       "    oferta  id  \n",
       "0  Privado   0  \n",
       "1  Privado   1  \n",
       "2  Privado   2  \n",
       "3  Privado   3  \n",
       "4  Privado   4  "
      ]
     },
     "execution_count": 139,
     "metadata": {},
     "output_type": "execute_result"
    }
   ],
   "source": [
    "educacion_cuenca_intermediate.head()"
   ]
  },
  {
   "cell_type": "code",
   "execution_count": 140,
   "metadata": {},
   "outputs": [],
   "source": [
    "def f(x):\n",
    "    lat = x.y\n",
    "    lon = x.x\n",
    "    return str(lat) + \",\" + str(lon)\n",
    "educacion_cuenca_intermediate[\"destino\"] = educacion_cuenca_intermediate.geometry.apply(f)"
   ]
  },
  {
   "cell_type": "code",
   "execution_count": 141,
   "metadata": {},
   "outputs": [],
   "source": [
    "educacion_cuenca_intermediate = educacion_cuenca_intermediate[['id', 'destino', 'nombre', 'tipo', 'oferta', 'geometry']]"
   ]
  },
  {
   "cell_type": "code",
   "execution_count": 142,
   "metadata": {},
   "outputs": [
    {
     "data": {
      "text/html": [
       "<div>\n",
       "<style scoped>\n",
       "    .dataframe tbody tr th:only-of-type {\n",
       "        vertical-align: middle;\n",
       "    }\n",
       "\n",
       "    .dataframe tbody tr th {\n",
       "        vertical-align: top;\n",
       "    }\n",
       "\n",
       "    .dataframe thead th {\n",
       "        text-align: right;\n",
       "    }\n",
       "</style>\n",
       "<table border=\"1\" class=\"dataframe\">\n",
       "  <thead>\n",
       "    <tr style=\"text-align: right;\">\n",
       "      <th></th>\n",
       "      <th>id</th>\n",
       "      <th>destino</th>\n",
       "      <th>nombre</th>\n",
       "      <th>tipo</th>\n",
       "      <th>oferta</th>\n",
       "      <th>geometry</th>\n",
       "    </tr>\n",
       "  </thead>\n",
       "  <tbody>\n",
       "    <tr>\n",
       "      <th>0</th>\n",
       "      <td>0</td>\n",
       "      <td>-2.9151467174936494,-78.99882869284582</td>\n",
       "      <td>AGUSTIN CUEVA TAMARIZ</td>\n",
       "      <td>Educación Primaria</td>\n",
       "      <td>Privado</td>\n",
       "      <td>POINT (-78.99883 -2.91515)</td>\n",
       "    </tr>\n",
       "    <tr>\n",
       "      <th>1</th>\n",
       "      <td>1</td>\n",
       "      <td>-2.8868183796093705,-79.00103872073403</td>\n",
       "      <td>CRISTO REY</td>\n",
       "      <td>Educación Primaria</td>\n",
       "      <td>Privado</td>\n",
       "      <td>POINT (-79.00104 -2.88682)</td>\n",
       "    </tr>\n",
       "    <tr>\n",
       "      <th>2</th>\n",
       "      <td>2</td>\n",
       "      <td>-2.8946022383986847,-78.9967601113745</td>\n",
       "      <td>CRECIENDO LIBRES</td>\n",
       "      <td>Educación Primaria</td>\n",
       "      <td>Privado</td>\n",
       "      <td>POINT (-78.99676 -2.89460)</td>\n",
       "    </tr>\n",
       "    <tr>\n",
       "      <th>3</th>\n",
       "      <td>3</td>\n",
       "      <td>-2.896964603254266,-79.00534664921358</td>\n",
       "      <td>ARZOBISPO SERRANO</td>\n",
       "      <td>Educación Primaria</td>\n",
       "      <td>Privado</td>\n",
       "      <td>POINT (-79.00535 -2.89696)</td>\n",
       "    </tr>\n",
       "    <tr>\n",
       "      <th>4</th>\n",
       "      <td>4</td>\n",
       "      <td>-2.880982994406767,-79.02066847136528</td>\n",
       "      <td>EL AMERICANO</td>\n",
       "      <td>Educación Primaria</td>\n",
       "      <td>Privado</td>\n",
       "      <td>POINT (-79.02067 -2.88098)</td>\n",
       "    </tr>\n",
       "  </tbody>\n",
       "</table>\n",
       "</div>"
      ],
      "text/plain": [
       "   id                                 destino                 nombre  \\\n",
       "0   0  -2.9151467174936494,-78.99882869284582  AGUSTIN CUEVA TAMARIZ   \n",
       "1   1  -2.8868183796093705,-79.00103872073403             CRISTO REY   \n",
       "2   2   -2.8946022383986847,-78.9967601113745       CRECIENDO LIBRES   \n",
       "3   3   -2.896964603254266,-79.00534664921358      ARZOBISPO SERRANO   \n",
       "4   4   -2.880982994406767,-79.02066847136528           EL AMERICANO   \n",
       "\n",
       "                 tipo   oferta                    geometry  \n",
       "0  Educación Primaria  Privado  POINT (-78.99883 -2.91515)  \n",
       "1  Educación Primaria  Privado  POINT (-79.00104 -2.88682)  \n",
       "2  Educación Primaria  Privado  POINT (-78.99676 -2.89460)  \n",
       "3  Educación Primaria  Privado  POINT (-79.00535 -2.89696)  \n",
       "4  Educación Primaria  Privado  POINT (-79.02067 -2.88098)  "
      ]
     },
     "execution_count": 142,
     "metadata": {},
     "output_type": "execute_result"
    }
   ],
   "source": [
    "educacion_cuenca_intermediate.head()"
   ]
  },
  {
   "attachments": {},
   "cell_type": "markdown",
   "metadata": {},
   "source": [
    "### Salud"
   ]
  },
  {
   "cell_type": "code",
   "execution_count": 196,
   "metadata": {},
   "outputs": [],
   "source": [
    "salud_cuenca = gpd.read_file(\n",
    "    parent_dir / \"data\" / \"cuenca\" / \"equipamientos\" / \"SALUD.shp\"\n",
    ")\n",
    "\n",
    "salud_cuenca = salud_cuenca[salud_cuenca.SITUACION==\"EXISTENTE\"]"
   ]
  },
  {
   "cell_type": "code",
   "execution_count": 197,
   "metadata": {},
   "outputs": [
    {
     "data": {
      "text/plain": [
       "(95, 9)"
      ]
     },
     "execution_count": 197,
     "metadata": {},
     "output_type": "execute_result"
    }
   ],
   "source": [
    "salud_cuenca.shape"
   ]
  },
  {
   "cell_type": "code",
   "execution_count": 198,
   "metadata": {},
   "outputs": [
    {
     "data": {
      "text/plain": [
       "Centro Clínico-Quirúrgico Ambulatorio    12\n",
       "CENTRO DE SALUD TIPO - B                 10\n",
       "CENTRO DE SALUD NO DEFINIDO               9\n",
       "CONSULTORIO GENERAL                       9\n",
       "CENTRO DE SALUD TIPO - A                  9\n",
       "CONSULTORIO DE ESPECIALIDAD (ES)          8\n",
       "CLINICA                                   5\n",
       "CENTRO ESPECIALIZADO                      5\n",
       "CENTRO DE SALUD TIPO - C                  5\n",
       "HOSPITAL GENERAL                          4\n",
       "CENTRO DE SALUD NI                        4\n",
       "HOSPITAL BÁSICO                           3\n",
       "CENTRO DE ESPECIALIDADES                  3\n",
       "HOSPITAL DE ESPECIALIDADES                2\n",
       "TORRE MEDICA                              1\n",
       "DIRECCION DE SALUD                        1\n",
       "HOSPITAL                                  1\n",
       "CENTRO DE SALUD                           1\n",
       "CENTRO DE SALUD URBANO                    1\n",
       "HOSPITAL ESPECIALIZADO                    1\n",
       "CENTRO SIQUIATRICO                        1\n",
       "Name: TIPO, dtype: int64"
      ]
     },
     "execution_count": 198,
     "metadata": {},
     "output_type": "execute_result"
    }
   ],
   "source": [
    "salud_cuenca.TIPO.value_counts()"
   ]
  },
  {
   "attachments": {},
   "cell_type": "markdown",
   "metadata": {},
   "source": [
    "Como parte del proceso de estandarización de los datos se asume que los tipos disponibles en el conjunto de datos de Cuenca corresponden a los siguiente tipos de establecimiento:\n",
    "\n",
    "* CENTRO DE SALUD TIPO - A: Atención Primaria\n",
    "* CENTRO DE SALUD TIPO - B : Hospitales\n",
    "* CENTRO DE SALUD TIPO - C : Hospitales\n",
    "* CLINICA: Hospitales\n",
    "* Centro Clínico-Quirúrgico Ambulatorio: Hospitales\n",
    "* CENTRO DE SALUD NO DEFINIDO: Atención Primaria\n",
    "* HOSPITAL: Hospitales\n",
    "* CENTRO DE SALUD: Atención Primaria\n",
    "* HOSPITAL ESPECIALIZADO: Hospitales\n",
    "* HOSPITAL DE ESPECIALIDADES: Hospitales\n",
    "* 'HOSPITAL BÁSICO', 'HOSPITAL GENERAL': Hospitales"
   ]
  },
  {
   "cell_type": "code",
   "execution_count": 199,
   "metadata": {},
   "outputs": [],
   "source": [
    "salud_cuenca[\"tipo\"] = \"Salud\""
   ]
  },
  {
   "cell_type": "code",
   "execution_count": 200,
   "metadata": {},
   "outputs": [
    {
     "data": {
      "text/html": [
       "<div>\n",
       "<style scoped>\n",
       "    .dataframe tbody tr th:only-of-type {\n",
       "        vertical-align: middle;\n",
       "    }\n",
       "\n",
       "    .dataframe tbody tr th {\n",
       "        vertical-align: top;\n",
       "    }\n",
       "\n",
       "    .dataframe thead th {\n",
       "        text-align: right;\n",
       "    }\n",
       "</style>\n",
       "<table border=\"1\" class=\"dataframe\">\n",
       "  <thead>\n",
       "    <tr style=\"text-align: right;\">\n",
       "      <th></th>\n",
       "      <th>NOMBRE</th>\n",
       "      <th>Shape_Leng</th>\n",
       "      <th>Shape_Area</th>\n",
       "      <th>SITUACION</th>\n",
       "      <th>CATEGORIA</th>\n",
       "      <th>TIPO</th>\n",
       "      <th>JERARQUIA</th>\n",
       "      <th>ADMINISTRA</th>\n",
       "      <th>geometry</th>\n",
       "      <th>tipo</th>\n",
       "    </tr>\n",
       "  </thead>\n",
       "  <tbody>\n",
       "    <tr>\n",
       "      <th>1</th>\n",
       "      <td>HOSPITAL DE LA MUJER Y EL NIÑO</td>\n",
       "      <td>2946.554964</td>\n",
       "      <td>2946.554964</td>\n",
       "      <td>EXISTENTE</td>\n",
       "      <td>SALUD</td>\n",
       "      <td>HOSPITAL</td>\n",
       "      <td>URBANO MAYOR</td>\n",
       "      <td>PUBLICO</td>\n",
       "      <td>POLYGON Z ((724270.163 9682983.959 0.000, 7243...</td>\n",
       "      <td>Salud</td>\n",
       "    </tr>\n",
       "    <tr>\n",
       "      <th>2</th>\n",
       "      <td>CLINICA ESPAÑA</td>\n",
       "      <td>1601.936241</td>\n",
       "      <td>1601.936241</td>\n",
       "      <td>EXISTENTE</td>\n",
       "      <td>SALUD</td>\n",
       "      <td>Centro Clínico-Quirúrgico Ambulatorio</td>\n",
       "      <td>URBANO MAYOR</td>\n",
       "      <td>PRIVADO</td>\n",
       "      <td>POLYGON Z ((722904.209 9680154.664 0.000, 7229...</td>\n",
       "      <td>Salud</td>\n",
       "    </tr>\n",
       "    <tr>\n",
       "      <th>3</th>\n",
       "      <td>FASEC</td>\n",
       "      <td>1418.204170</td>\n",
       "      <td>1418.204170</td>\n",
       "      <td>EXISTENTE</td>\n",
       "      <td>SALUD</td>\n",
       "      <td>CENTRO ESPECIALIZADO</td>\n",
       "      <td>URBANO MAYOR</td>\n",
       "      <td>PUBLICO</td>\n",
       "      <td>POLYGON Z ((723155.133 9677774.174 0.000, 7232...</td>\n",
       "      <td>Salud</td>\n",
       "    </tr>\n",
       "    <tr>\n",
       "      <th>4</th>\n",
       "      <td>CLINICA HOSP. STA. INES</td>\n",
       "      <td>2977.352029</td>\n",
       "      <td>2977.352029</td>\n",
       "      <td>EXISTENTE</td>\n",
       "      <td>SALUD</td>\n",
       "      <td>HOSPITAL GENERAL</td>\n",
       "      <td>URBANO MAYOR</td>\n",
       "      <td>PRIVADO</td>\n",
       "      <td>POLYGON Z ((721323.242 9679003.185 0.000, 7213...</td>\n",
       "      <td>Salud</td>\n",
       "    </tr>\n",
       "    <tr>\n",
       "      <th>5</th>\n",
       "      <td>CENTRO MEDICO CAPULISPAMBA</td>\n",
       "      <td>2027.134261</td>\n",
       "      <td>2027.134261</td>\n",
       "      <td>EXISTENTE</td>\n",
       "      <td>SALUD</td>\n",
       "      <td>CENTRO DE SALUD NO DEFINIDO</td>\n",
       "      <td>URBANO MENOR</td>\n",
       "      <td>PUBLICO</td>\n",
       "      <td>POLYGON Z ((729618.715 9683473.486 0.000, 7296...</td>\n",
       "      <td>Salud</td>\n",
       "    </tr>\n",
       "  </tbody>\n",
       "</table>\n",
       "</div>"
      ],
      "text/plain": [
       "                           NOMBRE   Shape_Leng   Shape_Area  SITUACION  \\\n",
       "1  HOSPITAL DE LA MUJER Y EL NIÑO  2946.554964  2946.554964  EXISTENTE   \n",
       "2                  CLINICA ESPAÑA  1601.936241  1601.936241  EXISTENTE   \n",
       "3                           FASEC  1418.204170  1418.204170  EXISTENTE   \n",
       "4         CLINICA HOSP. STA. INES  2977.352029  2977.352029  EXISTENTE   \n",
       "5      CENTRO MEDICO CAPULISPAMBA  2027.134261  2027.134261  EXISTENTE   \n",
       "\n",
       "  CATEGORIA                                   TIPO     JERARQUIA ADMINISTRA  \\\n",
       "1     SALUD                               HOSPITAL  URBANO MAYOR    PUBLICO   \n",
       "2     SALUD  Centro Clínico-Quirúrgico Ambulatorio  URBANO MAYOR    PRIVADO   \n",
       "3     SALUD                   CENTRO ESPECIALIZADO  URBANO MAYOR    PUBLICO   \n",
       "4     SALUD                       HOSPITAL GENERAL  URBANO MAYOR    PRIVADO   \n",
       "5     SALUD            CENTRO DE SALUD NO DEFINIDO  URBANO MENOR    PUBLICO   \n",
       "\n",
       "                                            geometry   tipo  \n",
       "1  POLYGON Z ((724270.163 9682983.959 0.000, 7243...  Salud  \n",
       "2  POLYGON Z ((722904.209 9680154.664 0.000, 7229...  Salud  \n",
       "3  POLYGON Z ((723155.133 9677774.174 0.000, 7232...  Salud  \n",
       "4  POLYGON Z ((721323.242 9679003.185 0.000, 7213...  Salud  \n",
       "5  POLYGON Z ((729618.715 9683473.486 0.000, 7296...  Salud  "
      ]
     },
     "execution_count": 200,
     "metadata": {},
     "output_type": "execute_result"
    }
   ],
   "source": [
    "salud_cuenca.head()"
   ]
  },
  {
   "cell_type": "code",
   "execution_count": 201,
   "metadata": {},
   "outputs": [],
   "source": [
    "def f(x):\n",
    "    atenprimaria = ['CENTRO DE SALUD TIPO - A', 'CENTRO DE SALUD NO DEFINIDO', 'CENTRO DE SALUD']\n",
    "    hospitales = ['CENTRO DE SALUD TIPO - B', 'CENTRO DE SALUD TIPO - C', 'CLINICA', 'Centro Clínico-Quirúrgico Ambulatorio', 'HOSPITAL', 'HOSPITAL ESPECIALIZADO', 'HOSPITAL DE ESPECIALIDADES', 'HOSPITAL BÁSICO', 'HOSPITAL GENERAL']\n",
    "    if x in atenprimaria:\n",
    "        return 'Atención Primaria'\n",
    "    if x in hospitales:\n",
    "        return 'Hospitales'\n",
    "    return 'Sin información'\n",
    "\n",
    "salud_cuenca['oferta'] = salud_cuenca.TIPO.apply(f)"
   ]
  },
  {
   "cell_type": "code",
   "execution_count": 205,
   "metadata": {},
   "outputs": [
    {
     "data": {
      "text/plain": [
       "(95, 11)"
      ]
     },
     "execution_count": 205,
     "metadata": {},
     "output_type": "execute_result"
    }
   ],
   "source": [
    "salud_cuenca.shape"
   ]
  },
  {
   "cell_type": "code",
   "execution_count": 206,
   "metadata": {},
   "outputs": [],
   "source": [
    "salud_cuenca = salud_cuenca[salud_cuenca['oferta'] != 'Sin información']"
   ]
  },
  {
   "cell_type": "code",
   "execution_count": 207,
   "metadata": {},
   "outputs": [],
   "source": [
    "salud_cuenca.reset_index(drop=True, inplace=True)\n",
    "salud_cuenca[\"id\"] = salud_cuenca.index"
   ]
  },
  {
   "cell_type": "code",
   "execution_count": 208,
   "metadata": {},
   "outputs": [],
   "source": [
    "salud_cuenca.rename(columns={\"NOMBRE\": \"nombre\"}, inplace=True)"
   ]
  },
  {
   "cell_type": "code",
   "execution_count": 209,
   "metadata": {},
   "outputs": [
    {
     "name": "stderr",
     "output_type": "stream",
     "text": [
      "/Users/cristiantorres/opt/anaconda3/envs/env_pyomu/lib/python3.8/site-packages/pyproj/crs/crs.py:141: FutureWarning: '+init=<authority>:<code>' syntax is deprecated. '<authority>:<code>' is the preferred initialization method. When making the change, be mindful of axis order changes: https://pyproj4.github.io/pyproj/stable/gotchas.html#axis-order-changes-in-proj-6\n",
      "  in_crs_string = _prepare_from_proj_string(in_crs_string)\n",
      "/var/folders/0r/zp2mz7zj28xdnvbwvnqwf8vw0000gn/T/ipykernel_14793/3564331871.py:3: UserWarning: Geometry is in a geographic CRS. Results from 'centroid' are likely incorrect. Use 'GeoSeries.to_crs()' to re-project geometries to a projected CRS before this operation.\n",
      "\n",
      "  salud_cuenca.geometry = salud_cuenca.geometry.centroid\n"
     ]
    }
   ],
   "source": [
    "target_crs = {'init': 'epsg:4326'}\n",
    "salud_cuenca = salud_cuenca.to_crs(target_crs)\n",
    "salud_cuenca.geometry = salud_cuenca.geometry.centroid"
   ]
  },
  {
   "cell_type": "code",
   "execution_count": 210,
   "metadata": {},
   "outputs": [],
   "source": [
    "def f(x):\n",
    "    lat = x.y\n",
    "    lon = x.x\n",
    "    return str(lat) + \",\" + str(lon)\n",
    "salud_cuenca[\"destino\"] = salud_cuenca.geometry.apply(f)"
   ]
  },
  {
   "cell_type": "code",
   "execution_count": 211,
   "metadata": {},
   "outputs": [],
   "source": [
    "salud_cuenca_intermediate = salud_cuenca[['id', 'destino', 'nombre', 'tipo', 'oferta', 'geometry']].copy()"
   ]
  },
  {
   "cell_type": "code",
   "execution_count": 212,
   "metadata": {},
   "outputs": [
    {
     "data": {
      "text/html": [
       "<div>\n",
       "<style scoped>\n",
       "    .dataframe tbody tr th:only-of-type {\n",
       "        vertical-align: middle;\n",
       "    }\n",
       "\n",
       "    .dataframe tbody tr th {\n",
       "        vertical-align: top;\n",
       "    }\n",
       "\n",
       "    .dataframe thead th {\n",
       "        text-align: right;\n",
       "    }\n",
       "</style>\n",
       "<table border=\"1\" class=\"dataframe\">\n",
       "  <thead>\n",
       "    <tr style=\"text-align: right;\">\n",
       "      <th></th>\n",
       "      <th>id</th>\n",
       "      <th>destino</th>\n",
       "      <th>nombre</th>\n",
       "      <th>tipo</th>\n",
       "      <th>oferta</th>\n",
       "      <th>geometry</th>\n",
       "    </tr>\n",
       "  </thead>\n",
       "  <tbody>\n",
       "    <tr>\n",
       "      <th>0</th>\n",
       "      <td>0</td>\n",
       "      <td>-2.8661766410417258,-78.98211986830971</td>\n",
       "      <td>HOSPITAL DE LA MUJER Y EL NIÑO</td>\n",
       "      <td>Salud</td>\n",
       "      <td>Hospitales</td>\n",
       "      <td>POINT (-78.98212 -2.86618)</td>\n",
       "    </tr>\n",
       "    <tr>\n",
       "      <th>1</th>\n",
       "      <td>1</td>\n",
       "      <td>-2.8920541870747902,-78.99472787986616</td>\n",
       "      <td>CLINICA ESPAÑA</td>\n",
       "      <td>Salud</td>\n",
       "      <td>Hospitales</td>\n",
       "      <td>POINT (-78.99473 -2.89205)</td>\n",
       "    </tr>\n",
       "    <tr>\n",
       "      <th>2</th>\n",
       "      <td>2</td>\n",
       "      <td>-2.902255664300106,-79.00906526214762</td>\n",
       "      <td>CLINICA HOSP. STA. INES</td>\n",
       "      <td>Salud</td>\n",
       "      <td>Hospitales</td>\n",
       "      <td>POINT (-79.00907 -2.90226)</td>\n",
       "    </tr>\n",
       "    <tr>\n",
       "      <th>3</th>\n",
       "      <td>3</td>\n",
       "      <td>-2.8620042511963297,-78.93435554240325</td>\n",
       "      <td>CENTRO MEDICO CAPULISPAMBA</td>\n",
       "      <td>Salud</td>\n",
       "      <td>Atención Primaria</td>\n",
       "      <td>POINT (-78.93436 -2.86200)</td>\n",
       "    </tr>\n",
       "    <tr>\n",
       "      <th>4</th>\n",
       "      <td>4</td>\n",
       "      <td>-2.9066226816711658,-79.00096619609178</td>\n",
       "      <td>CLINICA STA. ANA</td>\n",
       "      <td>Salud</td>\n",
       "      <td>Hospitales</td>\n",
       "      <td>POINT (-79.00097 -2.90662)</td>\n",
       "    </tr>\n",
       "  </tbody>\n",
       "</table>\n",
       "</div>"
      ],
      "text/plain": [
       "   id                                 destino                          nombre  \\\n",
       "0   0  -2.8661766410417258,-78.98211986830971  HOSPITAL DE LA MUJER Y EL NIÑO   \n",
       "1   1  -2.8920541870747902,-78.99472787986616                  CLINICA ESPAÑA   \n",
       "2   2   -2.902255664300106,-79.00906526214762         CLINICA HOSP. STA. INES   \n",
       "3   3  -2.8620042511963297,-78.93435554240325      CENTRO MEDICO CAPULISPAMBA   \n",
       "4   4  -2.9066226816711658,-79.00096619609178                CLINICA STA. ANA   \n",
       "\n",
       "    tipo             oferta                    geometry  \n",
       "0  Salud         Hospitales  POINT (-78.98212 -2.86618)  \n",
       "1  Salud         Hospitales  POINT (-78.99473 -2.89205)  \n",
       "2  Salud         Hospitales  POINT (-79.00907 -2.90226)  \n",
       "3  Salud  Atención Primaria  POINT (-78.93436 -2.86200)  \n",
       "4  Salud         Hospitales  POINT (-79.00097 -2.90662)  "
      ]
     },
     "execution_count": 212,
     "metadata": {},
     "output_type": "execute_result"
    }
   ],
   "source": [
    "salud_cuenca_intermediate.head()"
   ]
  },
  {
   "cell_type": "code",
   "execution_count": null,
   "metadata": {},
   "outputs": [],
   "source": []
  },
  {
   "cell_type": "code",
   "execution_count": 216,
   "metadata": {},
   "outputs": [],
   "source": [
    "establecimientos_cuenca = pd.concat([educacion_cuenca_intermediate, salud_cuenca_intermediate]).reset_index(drop=True)"
   ]
  },
  {
   "cell_type": "code",
   "execution_count": 217,
   "metadata": {},
   "outputs": [],
   "source": [
    "establecimientos_cuenca['id'] = establecimientos_cuenca.index"
   ]
  },
  {
   "cell_type": "code",
   "execution_count": 218,
   "metadata": {},
   "outputs": [
    {
     "data": {
      "text/html": [
       "<div>\n",
       "<style scoped>\n",
       "    .dataframe tbody tr th:only-of-type {\n",
       "        vertical-align: middle;\n",
       "    }\n",
       "\n",
       "    .dataframe tbody tr th {\n",
       "        vertical-align: top;\n",
       "    }\n",
       "\n",
       "    .dataframe thead th {\n",
       "        text-align: right;\n",
       "    }\n",
       "</style>\n",
       "<table border=\"1\" class=\"dataframe\">\n",
       "  <thead>\n",
       "    <tr style=\"text-align: right;\">\n",
       "      <th></th>\n",
       "      <th>id</th>\n",
       "      <th>destino</th>\n",
       "      <th>nombre</th>\n",
       "      <th>tipo</th>\n",
       "      <th>oferta</th>\n",
       "      <th>geometry</th>\n",
       "    </tr>\n",
       "  </thead>\n",
       "  <tbody>\n",
       "    <tr>\n",
       "      <th>0</th>\n",
       "      <td>0</td>\n",
       "      <td>-2.9151467174936494,-78.99882869284582</td>\n",
       "      <td>AGUSTIN CUEVA TAMARIZ</td>\n",
       "      <td>Educación Primaria</td>\n",
       "      <td>Privado</td>\n",
       "      <td>POINT (-78.99883 -2.91515)</td>\n",
       "    </tr>\n",
       "    <tr>\n",
       "      <th>1</th>\n",
       "      <td>1</td>\n",
       "      <td>-2.8868183796093705,-79.00103872073403</td>\n",
       "      <td>CRISTO REY</td>\n",
       "      <td>Educación Primaria</td>\n",
       "      <td>Privado</td>\n",
       "      <td>POINT (-79.00104 -2.88682)</td>\n",
       "    </tr>\n",
       "    <tr>\n",
       "      <th>2</th>\n",
       "      <td>2</td>\n",
       "      <td>-2.8946022383986847,-78.9967601113745</td>\n",
       "      <td>CRECIENDO LIBRES</td>\n",
       "      <td>Educación Primaria</td>\n",
       "      <td>Privado</td>\n",
       "      <td>POINT (-78.99676 -2.89460)</td>\n",
       "    </tr>\n",
       "    <tr>\n",
       "      <th>3</th>\n",
       "      <td>3</td>\n",
       "      <td>-2.896964603254266,-79.00534664921358</td>\n",
       "      <td>ARZOBISPO SERRANO</td>\n",
       "      <td>Educación Primaria</td>\n",
       "      <td>Privado</td>\n",
       "      <td>POINT (-79.00535 -2.89696)</td>\n",
       "    </tr>\n",
       "    <tr>\n",
       "      <th>4</th>\n",
       "      <td>4</td>\n",
       "      <td>-2.880982994406767,-79.02066847136528</td>\n",
       "      <td>EL AMERICANO</td>\n",
       "      <td>Educación Primaria</td>\n",
       "      <td>Privado</td>\n",
       "      <td>POINT (-79.02067 -2.88098)</td>\n",
       "    </tr>\n",
       "  </tbody>\n",
       "</table>\n",
       "</div>"
      ],
      "text/plain": [
       "   id                                 destino                 nombre  \\\n",
       "0   0  -2.9151467174936494,-78.99882869284582  AGUSTIN CUEVA TAMARIZ   \n",
       "1   1  -2.8868183796093705,-79.00103872073403             CRISTO REY   \n",
       "2   2   -2.8946022383986847,-78.9967601113745       CRECIENDO LIBRES   \n",
       "3   3   -2.896964603254266,-79.00534664921358      ARZOBISPO SERRANO   \n",
       "4   4   -2.880982994406767,-79.02066847136528           EL AMERICANO   \n",
       "\n",
       "                 tipo   oferta                    geometry  \n",
       "0  Educación Primaria  Privado  POINT (-78.99883 -2.91515)  \n",
       "1  Educación Primaria  Privado  POINT (-79.00104 -2.88682)  \n",
       "2  Educación Primaria  Privado  POINT (-78.99676 -2.89460)  \n",
       "3  Educación Primaria  Privado  POINT (-79.00535 -2.89696)  \n",
       "4  Educación Primaria  Privado  POINT (-79.02067 -2.88098)  "
      ]
     },
     "execution_count": 218,
     "metadata": {},
     "output_type": "execute_result"
    }
   ],
   "source": [
    "establecimientos_cuenca.head()"
   ]
  },
  {
   "cell_type": "code",
   "execution_count": 219,
   "metadata": {},
   "outputs": [
    {
     "data": {
      "text/plain": [
       "(769, 6)"
      ]
     },
     "execution_count": 219,
     "metadata": {},
     "output_type": "execute_result"
    }
   ],
   "source": [
    "establecimientos_cuenca.shape"
   ]
  },
  {
   "cell_type": "code",
   "execution_count": 220,
   "metadata": {},
   "outputs": [
    {
     "data": {
      "text/plain": [
       "Educación Secundaria    346\n",
       "Educación Primaria      332\n",
       "Salud                    62\n",
       "Educación Inicial        29\n",
       "Name: tipo, dtype: int64"
      ]
     },
     "execution_count": 220,
     "metadata": {},
     "output_type": "execute_result"
    }
   ],
   "source": [
    "establecimientos_cuenca.tipo.value_counts()"
   ]
  },
  {
   "cell_type": "code",
   "execution_count": 221,
   "metadata": {},
   "outputs": [
    {
     "data": {
      "text/plain": [
       "Público              541\n",
       "Privado              166\n",
       "Hospitales            43\n",
       "Atención Primaria     19\n",
       "Name: oferta, dtype: int64"
      ]
     },
     "execution_count": 221,
     "metadata": {},
     "output_type": "execute_result"
    }
   ],
   "source": [
    "establecimientos_cuenca.oferta.value_counts()"
   ]
  },
  {
   "cell_type": "code",
   "execution_count": null,
   "metadata": {},
   "outputs": [],
   "source": []
  },
  {
   "cell_type": "code",
   "execution_count": null,
   "metadata": {},
   "outputs": [],
   "source": []
  },
  {
   "cell_type": "code",
   "execution_count": null,
   "metadata": {},
   "outputs": [],
   "source": []
  },
  {
   "cell_type": "code",
   "execution_count": null,
   "metadata": {},
   "outputs": [],
   "source": []
  },
  {
   "cell_type": "code",
   "execution_count": null,
   "metadata": {},
   "outputs": [],
   "source": []
  }
 ],
 "metadata": {
  "kernelspec": {
   "display_name": "env",
   "language": "python",
   "name": "python3"
  },
  "language_info": {
   "codemirror_mode": {
    "name": "ipython",
    "version": 3
   },
   "file_extension": ".py",
   "mimetype": "text/x-python",
   "name": "python",
   "nbconvert_exporter": "python",
   "pygments_lexer": "ipython3",
   "version": "3.8.16"
  },
  "orig_nbformat": 4
 },
 "nbformat": 4,
 "nbformat_minor": 2
}
